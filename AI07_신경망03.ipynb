{
  "nbformat": 4,
  "nbformat_minor": 0,
  "metadata": {
    "colab": {
      "name": "AI07_신경망03.ipynb",
      "provenance": [],
      "authorship_tag": "ABX9TyNcfuNEh8bMkzJzZsghZhty",
      "include_colab_link": true
    },
    "kernelspec": {
      "name": "python3",
      "display_name": "Python 3"
    }
  },
  "cells": [
    {
      "cell_type": "markdown",
      "metadata": {
        "id": "view-in-github",
        "colab_type": "text"
      },
      "source": [
        "<a href=\"https://colab.research.google.com/github/factorLee/DeepLearningfromScratch01_PKNU/blob/main/AI07_%EC%8B%A0%EA%B2%BD%EB%A7%9D03.ipynb\" target=\"_parent\"><img src=\"https://colab.research.google.com/assets/colab-badge.svg\" alt=\"Open In Colab\"/></a>"
      ]
    },
    {
      "cell_type": "markdown",
      "metadata": {
        "id": "1BbBPJznAJOZ"
      },
      "source": [
        "## 출력층"
      ]
    },
    {
      "cell_type": "code",
      "metadata": {
        "id": "oWwn5OFIAGnc"
      },
      "source": [
        "# softmax\n",
        "import numpy as np\n",
        "a = np.array([0.3,2.9,4.0])\n",
        "def softmax(x):\n",
        "    return np.exp(x)/np.sum(np.exp(x))"
      ],
      "execution_count": null,
      "outputs": []
    },
    {
      "cell_type": "code",
      "metadata": {
        "id": "ZihP0WEiD0Zf",
        "colab": {
          "base_uri": "https://localhost:8080/",
          "height": 34
        },
        "outputId": "1ecdd548-7d3b-4b8e-daa5-6fbd1cf820bf"
      },
      "source": [
        "softmax(a)"
      ],
      "execution_count": null,
      "outputs": [
        {
          "output_type": "execute_result",
          "data": {
            "text/plain": [
              "array([0.01821127, 0.24519181, 0.73659691])"
            ]
          },
          "metadata": {
            "tags": []
          },
          "execution_count": 67
        }
      ]
    },
    {
      "cell_type": "code",
      "metadata": {
        "id": "liYTuCCQD47-",
        "colab": {
          "base_uri": "https://localhost:8080/",
          "height": 34
        },
        "outputId": "2bdce7ae-bdc9-4952-d222-caf6638f46aa"
      },
      "source": [
        "print(np.sum(softmax(a)))"
      ],
      "execution_count": null,
      "outputs": [
        {
          "output_type": "stream",
          "text": [
            "1.0\n"
          ],
          "name": "stdout"
        }
      ]
    },
    {
      "cell_type": "code",
      "metadata": {
        "id": "SMf5TdwAD_xh",
        "colab": {
          "base_uri": "https://localhost:8080/",
          "height": 34
        },
        "outputId": "08e18e85-befe-41cc-e8f4-9256a586f8b7"
      },
      "source": [
        "# softmax 오버플로우 오류 처리방법 : a에서 제일 큰거 빼준다.\n",
        "import numpy as np\n",
        "a = np.array([0.3,2.9,4.0])\n",
        "b = np.array([1100,1000,990])\n",
        "def softmax(x):\n",
        "    C = np.max(x)\n",
        "    return np.exp(x-C)/np.sum(np.exp(x-C))\n",
        "softmax1(b)"
      ],
      "execution_count": null,
      "outputs": [
        {
          "output_type": "execute_result",
          "data": {
            "text/plain": [
              "array([1.00000000e+00, 3.72007598e-44, 1.68891188e-48])"
            ]
          },
          "metadata": {
            "tags": []
          },
          "execution_count": 69
        }
      ]
    },
    {
      "cell_type": "markdown",
      "metadata": {
        "id": "KNG-EaZnG8E0"
      },
      "source": [
        "## 출력층을 Softmax로 변경한 인공신경망"
      ]
    },
    {
      "cell_type": "code",
      "metadata": {
        "id": "UP2Qk5OlF1zM"
      },
      "source": [
        "def sigmoid(x):\n",
        "    return 1/(1+np.exp(-x))\n",
        "\n",
        "def init_network():\n",
        "    network = {}\n",
        "    network['W1'] = np.array([[0.1,0.3,0.5],[0.2,0.4,0.6]])\n",
        "    network['b1'] = np.array([0.1,0.2,0.3])\n",
        "    network['W2'] = np.array([[0.1,0.4],[0.2,0.5],[0.3,0.6]])\n",
        "    network['b2'] = np.array([0.2,0.3])\n",
        "    network['W3'] = np.array([[0.1,0.3],[0.2,0.4]])\n",
        "    network['b3'] = np.array([0.1,0.2])\n",
        "\n",
        "    return network\n",
        "\n",
        "def forward(network, x):\n",
        "    W1,W2,W3 = network['W1'],network['W2'],network['W3']\n",
        "    b1,b2,b3 = network['b1'],network['b2'],network['b3']\n",
        "    a1 = np.dot(x,W1)+b1\n",
        "    z1 = sigmoid(a1)\n",
        "    a2 = np.dot(z1,W2)+b2\n",
        "    z2 = sigmoid(a2)\n",
        "    a3 = np.dot(z2,W3)+b3\n",
        "    #y = softmax(a3) # 분류 할때\n",
        "    y = a3 # 회귀 할때\n",
        "\n",
        "    return y"
      ],
      "execution_count": null,
      "outputs": []
    },
    {
      "cell_type": "code",
      "metadata": {
        "id": "uJFRkjVuHE8h",
        "colab": {
          "base_uri": "https://localhost:8080/",
          "height": 34
        },
        "outputId": "4d62a1e7-6c9a-4e3c-e9eb-0ab0144a2145"
      },
      "source": [
        "network = init_network()\n",
        "x = np.array([13.0,-100])\n",
        "forward(network,x)"
      ],
      "execution_count": null,
      "outputs": [
        {
          "output_type": "execute_result",
          "data": {
            "text/plain": [
              "array([0.2698719 , 0.59472721])"
            ]
          },
          "metadata": {
            "tags": []
          },
          "execution_count": 71
        }
      ]
    },
    {
      "cell_type": "markdown",
      "metadata": {
        "id": "QWR7KGDVIFps"
      },
      "source": [
        "## MNIST 데이터셋 불러오기"
      ]
    },
    {
      "cell_type": "code",
      "metadata": {
        "id": "FN8g8wQyHHZZ"
      },
      "source": [
        "from keras.datasets import mnist\n",
        "(x_train, y_train),(x_test, y_test)=mnist.load_data() # x는 입력값에 사용 y는 정답\n",
        "x_train=x_train/255.\n",
        "x_test=x_test/255. # 픽셀이 0부터 255까지의 값을 가지고 있어서 -> 0~1사이의 값을 갖도록 표준화\n",
        "x_train=x_train.reshape(60000,784) # 데이터의 자원이 60000x784로 재정렬\n",
        "x_test=x_test.reshape(10000,784)\n"
      ],
      "execution_count": null,
      "outputs": []
    },
    {
      "cell_type": "code",
      "metadata": {
        "id": "fGay0acCJZKc",
        "colab": {
          "base_uri": "https://localhost:8080/",
          "height": 85
        },
        "outputId": "b60351c9-893c-49ee-ee2d-fa5444e65e65"
      },
      "source": [
        "print(x_train.shape) # 이번실습에서 사용\n",
        "print(y_train.shape)\n",
        "print(x_test.shape)\n",
        "print(y_test.shape)\n"
      ],
      "execution_count": null,
      "outputs": [
        {
          "output_type": "stream",
          "text": [
            "(60000, 784)\n",
            "(60000,)\n",
            "(10000, 784)\n",
            "(10000,)\n"
          ],
          "name": "stdout"
        }
      ]
    },
    {
      "cell_type": "code",
      "metadata": {
        "id": "_4d3esy9Jm8g",
        "colab": {
          "base_uri": "https://localhost:8080/",
          "height": 282
        },
        "outputId": "ae0decfe-432e-4287-fa47-1c58428d13a8"
      },
      "source": [
        "import matplotlib.pyplot as plt\n",
        "\n",
        "idx = 9\n",
        "img = x_train[idx] # 0번째 데이터의 사진\n",
        "label = y_train[idx] # 0번째 데이터의 실제 정답\n",
        "img = img.reshape(28,28)\n",
        "plt.imshow(img)\n",
        "print(label)"
      ],
      "execution_count": null,
      "outputs": [
        {
          "output_type": "stream",
          "text": [
            "4\n"
          ],
          "name": "stdout"
        },
        {
          "output_type": "display_data",
          "data": {
            "image/png": "[encoded data removed]",
            "text/plain": [
              "<Figure size 432x288 with 1 Axes>"
            ]
          },
          "metadata": {
            "tags": [],
            "needs_background": "light"
          }
        }
      ]
    },
    {
      "cell_type": "markdown",
      "metadata": {
        "id": "Y2GPH12liGaU"
      },
      "source": [
        "## MNIST 처리 신경망 구성"
      ]
    },
    {
      "cell_type": "code",
      "metadata": {
        "id": "CCbCO8-7KCLD",
        "colab": {
          "base_uri": "https://localhost:8080/",
          "height": 51
        },
        "outputId": "19024ed3-2cb4-4f9b-ec69-6fb9903357ed"
      },
      "source": [
        "from keras.datasets import mnist\n",
        "\n",
        "def sigmoid(x):\n",
        "    return 1/(1+np.exp(-x))\n",
        "\n",
        "def relu(x):\n",
        "    return np.maximum(0,x)\n",
        "\n",
        "def softmax(x):\n",
        "    C = np.max(x)\n",
        "    return np.exp(x-C)/np.sum(np.exp(x-C))\n",
        "\n",
        "def get_data():\n",
        "    (x_train, y_train),(x_test, y_test)=mnist.load_data() # x는 입력값에 사용 y는 정답\n",
        "    x_train=x_train/255.\n",
        "    x_test=x_test/255. # 픽셀이 0부터 255까지의 값을 가지고 있어서 -> 0~1사이의 값을 갖도록 표준화\n",
        "    x_train=x_train.reshape(60000,784) # 데이터의 자원이 60000x784로 재정렬\n",
        "    x_test=x_test.reshape(10000,784)\n",
        "    return x_train, y_train\n",
        "\n",
        "def init_network():\n",
        "    network={}\n",
        "    network['W1'] = np.random.normal(size=(784,50)) # 784by50 matrix 안의 값은 표준정규분포(평균이0이고 표준편차가1인)에 생성된 난수\n",
        "    network['b1'] = np.random.normal(size=(50,))\n",
        "    network['W2'] = np.random.normal(size=(50,100))\n",
        "    network['b2'] = np.random.normal(size=(100,))\n",
        "    network['W3'] = np.random.normal(size=(100,10))\n",
        "    network['b3'] = np.random.normal(size=(10,))\n",
        "    return network\n",
        "\n",
        "def predict(network,x):\n",
        "    W1,W2,W3 = network['W1'], network['W2'], network['W3']\n",
        "    b1,b2,b3 = network['b1'], network['b2'], network['b3']\n",
        "\n",
        "    a1 = np.dot(x,W1)+b1\n",
        "    z1 = sigmoid(a1)\n",
        "    a2 = np.dot(z1,W2)+b2\n",
        "    z2 = sigmoid(a2)\n",
        "    a3 = np.dot(z2,W3)+b3\n",
        "    y = softmax1(a3)\n",
        "    return y\n",
        "\n",
        "A = np.array([[1.,2.],[3.,4.]])\n",
        "print(A[1][0])\n",
        "print(x_train[59999][783])"
      ],
      "execution_count": null,
      "outputs": [
        {
          "output_type": "stream",
          "text": [
            "3.0\n",
            "0.0\n"
          ],
          "name": "stdout"
        }
      ]
    },
    {
      "cell_type": "code",
      "metadata": {
        "id": "tcC4G3u3iopA"
      },
      "source": [
        "network = init_network()\n",
        "x_train,y_train=get_data()"
      ],
      "execution_count": null,
      "outputs": []
    },
    {
      "cell_type": "code",
      "metadata": {
        "id": "tA_zxsGwlK_1",
        "colab": {
          "base_uri": "https://localhost:8080/",
          "height": 102
        },
        "outputId": "56c05027-0d47-493e-ea2c-ae789562a6ef"
      },
      "source": [
        "pred = predict(network, x_train[59999])\n",
        "print(y_train[59999])\n",
        "print(np.argmax(pred))\n",
        "print(pred)"
      ],
      "execution_count": null,
      "outputs": [
        {
          "output_type": "stream",
          "text": [
            "8\n",
            "6\n",
            "[1.32556126e-06 2.91014644e-02 1.73086885e-06 1.19299050e-04\n",
            " 4.94276868e-05 6.95458552e-09 9.70672045e-01 8.31885932e-06\n",
            " 5.16057118e-09 4.63768422e-05]\n"
          ],
          "name": "stdout"
        }
      ]
    },
    {
      "cell_type": "markdown",
      "metadata": {
        "id": "5t8XGzZZnwl1"
      },
      "source": [
        "## 예측의 정확도 측정"
      ]
    },
    {
      "cell_type": "code",
      "metadata": {
        "id": "1pc6bYwBnAIi",
        "colab": {
          "base_uri": "https://localhost:8080/",
          "height": 34
        },
        "outputId": "d228ef28-51be-4976-a8b5-3560d648ce65"
      },
      "source": [
        "y_train"
      ],
      "execution_count": null,
      "outputs": [
        {
          "output_type": "execute_result",
          "data": {
            "text/plain": [
              "array([5, 0, 4, ..., 5, 6, 8], dtype=uint8)"
            ]
          },
          "metadata": {
            "tags": []
          },
          "execution_count": 78
        }
      ]
    },
    {
      "cell_type": "code",
      "metadata": {
        "id": "TU1lychSoqi9",
        "colab": {
          "base_uri": "https://localhost:8080/",
          "height": 34
        },
        "outputId": "2c82f7b8-75eb-4f4a-c2b5-89b3017f0c04"
      },
      "source": [
        "accuracy_cut = 0\n",
        "for i in range(len(x_train)):\n",
        "    pred = predict(network, x_train[i])\n",
        "    p = np.argmax(pred)\n",
        "    if p == y_train[i]:\n",
        "        accuracy_cut += 1\n",
        "\n",
        "float(accuracy_cut)/len(x_train) "
      ],
      "execution_count": null,
      "outputs": [
        {
          "output_type": "execute_result",
          "data": {
            "text/plain": [
              "0.1438"
            ]
          },
          "metadata": {
            "tags": []
          },
          "execution_count": 79
        }
      ]
    },
    {
      "cell_type": "markdown",
      "metadata": {
        "id": "X04o-2R9sGaZ"
      },
      "source": [
        "## 배치처리"
      ]
    },
    {
      "cell_type": "code",
      "metadata": {
        "id": "62iXipalpnAJ",
        "colab": {
          "base_uri": "https://localhost:8080/",
          "height": 34
        },
        "outputId": "1fe450ef-085f-4746-f7d9-d0661f36ef27"
      },
      "source": [
        "accuracy_cut = 0\n",
        "batch_size = 100\n",
        "for i in range(0,len(x_train),batch_size):\n",
        "    x_batch = x_train[i:i+batch_size]\n",
        "    pred = predict(network, x_batch)\n",
        "    p = np.argmax(pred,axis=1)\n",
        "    accuracy_cut += np.sum(p==y_train[i:i+batch_size])\n",
        "\n",
        "float(accuracy_cut)/len(x_train)"
      ],
      "execution_count": null,
      "outputs": [
        {
          "output_type": "execute_result",
          "data": {
            "text/plain": [
              "0.1438"
            ]
          },
          "metadata": {
            "tags": []
          },
          "execution_count": 80
        }
      ]
    },
    {
      "cell_type": "code",
      "metadata": {
        "id": "SxE_1lmRsShU"
      },
      "source": [
        ""
      ],
      "execution_count": null,
      "outputs": []
    }
  ]
}