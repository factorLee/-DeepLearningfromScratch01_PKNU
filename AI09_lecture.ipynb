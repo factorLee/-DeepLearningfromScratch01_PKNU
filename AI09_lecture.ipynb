{
  "nbformat": 4,
  "nbformat_minor": 0,
  "metadata": {
    "colab": {
      "name": "AI09_lecture.ipynb",
      "provenance": [],
      "collapsed_sections": [],
      "authorship_tag": "ABX9TyOnEQv7/RizshEysp8VgUiR",
      "include_colab_link": true
    },
    "kernelspec": {
      "name": "python3",
      "display_name": "Python 3"
    }
  },
  "cells": [
    {
      "cell_type": "markdown",
      "metadata": {
        "id": "view-in-github",
        "colab_type": "text"
      },
      "source": [
        "<a href=\"https://colab.research.google.com/github/factorLee/DeepLearningfromScratch01_PKNU/blob/main/AI09_lecture.ipynb\" target=\"_parent\"><img src=\"https://colab.research.google.com/assets/colab-badge.svg\" alt=\"Open In Colab\"/></a>"
      ]
    },
    {
      "cell_type": "markdown",
      "metadata": {
        "id": "YCzq_6ciAPJc"
      },
      "source": [
        "\\\n",
        "\n",
        "## One-hot encoding"
      ]
    },
    {
      "cell_type": "code",
      "metadata": {
        "id": "LpDyLeuVAIQU",
        "colab": {
          "base_uri": "https://localhost:8080/"
        },
        "outputId": "014af5df-b37f-4bc9-a256-92b7a9b8f73d"
      },
      "source": [
        "from keras.datasets import mnist\n",
        "(x_train,y_train),(x_test,y_test) = mnist.load_data()\n",
        "x_train = x_train/255.\n",
        "x_test = x_test/255.\n",
        "x_train = x_train.reshape(60000,784)\n",
        "x_test = x_test.reshape(10000,784)"
      ],
      "execution_count": null,
      "outputs": [
        {
          "output_type": "stream",
          "text": [
            "Downloading data from https://storage.googleapis.com/tensorflow/tf-keras-datasets/mnist.npz\n",
            "11493376/11490434 [==============================] - 0s 0us/step\n"
          ],
          "name": "stdout"
        }
      ]
    },
    {
      "cell_type": "code",
      "metadata": {
        "id": "0m3IijTAAOU4",
        "colab": {
          "base_uri": "https://localhost:8080/"
        },
        "outputId": "86ae5e0d-0ec9-4ed1-923a-811bf245dd35"
      },
      "source": [
        "y_train"
      ],
      "execution_count": null,
      "outputs": [
        {
          "output_type": "execute_result",
          "data": {
            "text/plain": [
              "array([5, 0, 4, ..., 5, 6, 8], dtype=uint8)"
            ]
          },
          "metadata": {
            "tags": []
          },
          "execution_count": 2
        }
      ]
    },
    {
      "cell_type": "code",
      "metadata": {
        "id": "ip-HEfquBu_h",
        "colab": {
          "base_uri": "https://localhost:8080/"
        },
        "outputId": "15b52855-b739-41a9-df41-48fcd3cc1d44"
      },
      "source": [
        "from sklearn.preprocessing import OneHotEncoder\n",
        "encoder = OneHotEncoder(sparse = False)\n",
        "y_train = encoder.fit_transform(y_train.reshape(-1,1))\n",
        "y_train"
      ],
      "execution_count": null,
      "outputs": [
        {
          "output_type": "execute_result",
          "data": {
            "text/plain": [
              "array([[0., 0., 0., ..., 0., 0., 0.],\n",
              "       [1., 0., 0., ..., 0., 0., 0.],\n",
              "       [0., 0., 0., ..., 0., 0., 0.],\n",
              "       ...,\n",
              "       [0., 0., 0., ..., 0., 0., 0.],\n",
              "       [0., 0., 0., ..., 0., 0., 0.],\n",
              "       [0., 0., 0., ..., 0., 1., 0.]])"
            ]
          },
          "metadata": {
            "tags": []
          },
          "execution_count": 3
        }
      ]
    },
    {
      "cell_type": "code",
      "metadata": {
        "id": "TcWfhkKkCVuT"
      },
      "source": [
        ""
      ],
      "execution_count": null,
      "outputs": []
    },
    {
      "cell_type": "markdown",
      "metadata": {
        "id": "yabCCq2bFhqT"
      },
      "source": [
        "## 손실함수:MSE"
      ]
    },
    {
      "cell_type": "code",
      "metadata": {
        "id": "hHGgwuJfCVzZ",
        "colab": {
          "base_uri": "https://localhost:8080/"
        },
        "outputId": "7119c158-01c9-48a8-9214-2fa702a82d0f"
      },
      "source": [
        "import numpy as np\n",
        "y_hat=[0.1,0.05,0.6,0.0,0.05,0.1,0.0,0.1,0.0,0.0]\n",
        "y=[0,0,1,0,0,0,0,0,0,0]\n",
        "np.sum((np.array(y_hat)-np.array(y))**2)*0.5"
      ],
      "execution_count": null,
      "outputs": [
        {
          "output_type": "execute_result",
          "data": {
            "text/plain": [
              "0.09750000000000003"
            ]
          },
          "metadata": {
            "tags": []
          },
          "execution_count": 4
        }
      ]
    },
    {
      "cell_type": "code",
      "metadata": {
        "id": "5efJeYOBCDMM"
      },
      "source": [
        "def mean_squared_error(y,y_hat):\n",
        "    return 0.5*np.sum((y-y_hat)**2)\n",
        "    "
      ],
      "execution_count": null,
      "outputs": []
    },
    {
      "cell_type": "code",
      "metadata": {
        "id": "m4Xf9Ov6Gsgj",
        "colab": {
          "base_uri": "https://localhost:8080/"
        },
        "outputId": "c040ea64-32f7-44e2-d470-12e66ced5319"
      },
      "source": [
        "mean_squared_error(np.array(y),np.array(y_hat))"
      ],
      "execution_count": null,
      "outputs": [
        {
          "output_type": "execute_result",
          "data": {
            "text/plain": [
              "0.09750000000000003"
            ]
          },
          "metadata": {
            "tags": []
          },
          "execution_count": 6
        }
      ]
    },
    {
      "cell_type": "code",
      "metadata": {
        "id": "ATkFjZTQG5Qb"
      },
      "source": [
        ""
      ],
      "execution_count": null,
      "outputs": []
    },
    {
      "cell_type": "markdown",
      "metadata": {
        "id": "m8GxpewZP4dv"
      },
      "source": [
        "## 손실함수:Cross-entropy"
      ]
    },
    {
      "cell_type": "code",
      "metadata": {
        "id": "xuMxf-9GP9lB"
      },
      "source": [
        "y = np.array(y)\n",
        "y_hat = np.array(y_hat)\n",
        "delta = 1e-7\n"
      ],
      "execution_count": null,
      "outputs": []
    },
    {
      "cell_type": "code",
      "metadata": {
        "id": "mVHOk1BzQGx3",
        "colab": {
          "base_uri": "https://localhost:8080/"
        },
        "outputId": "7b6bc625-88a6-4425-b574-d6cb49c2a09a"
      },
      "source": [
        "-1*np.sum(y*np.log(y_hat+delta))"
      ],
      "execution_count": null,
      "outputs": [
        {
          "output_type": "execute_result",
          "data": {
            "text/plain": [
              "0.510825457099338"
            ]
          },
          "metadata": {
            "tags": []
          },
          "execution_count": 8
        }
      ]
    },
    {
      "cell_type": "code",
      "metadata": {
        "id": "whshnz0QQfEY"
      },
      "source": [
        "def cross_entropy_error(y,y_hat):\n",
        "    delta = 1e-7\n",
        "    return -1*np.sum(y*np.log(y_hat+delta))"
      ],
      "execution_count": null,
      "outputs": []
    },
    {
      "cell_type": "code",
      "metadata": {
        "id": "Zti388ODRJob",
        "colab": {
          "base_uri": "https://localhost:8080/"
        },
        "outputId": "7e4b055e-87c2-4be4-9f31-536d3d949032"
      },
      "source": [
        "cross_entropy_error(y,y_hat)"
      ],
      "execution_count": null,
      "outputs": [
        {
          "output_type": "execute_result",
          "data": {
            "text/plain": [
              "0.510825457099338"
            ]
          },
          "metadata": {
            "tags": []
          },
          "execution_count": 10
        }
      ]
    },
    {
      "cell_type": "code",
      "metadata": {
        "id": "STMr19RmRMEf"
      },
      "source": [
        ""
      ],
      "execution_count": null,
      "outputs": []
    },
    {
      "cell_type": "markdown",
      "metadata": {
        "id": "50WaL7hQRYax"
      },
      "source": [
        "## 미니배치(Mini batch)"
      ]
    },
    {
      "cell_type": "code",
      "metadata": {
        "id": "vwPlXXaLRaAl",
        "colab": {
          "base_uri": "https://localhost:8080/"
        },
        "outputId": "58e20e77-0de7-46e8-8906-5286b9647fa9"
      },
      "source": [
        "np.random.choice(10,3)"
      ],
      "execution_count": null,
      "outputs": [
        {
          "output_type": "execute_result",
          "data": {
            "text/plain": [
              "array([5, 4, 0])"
            ]
          },
          "metadata": {
            "tags": []
          },
          "execution_count": 11
        }
      ]
    },
    {
      "cell_type": "code",
      "metadata": {
        "id": "AC0hR9UdRjkh",
        "colab": {
          "base_uri": "https://localhost:8080/"
        },
        "outputId": "562adc62-eb42-4180-f11c-63e32e77db34"
      },
      "source": [
        "train_size = x_train.shape[0]\n",
        "batch_size = 10\n",
        "batch_mask = np.random.choice(train_size,batch_size)\n",
        "print(batch_mask)\n",
        "x_batch = x_train[batch_mask]\n",
        "y_batch = y_train[batch_mask]\n"
      ],
      "execution_count": null,
      "outputs": [
        {
          "output_type": "stream",
          "text": [
            "[54082 34028 36695 30246 53313 57002 47109 38053 52797 13059]\n"
          ],
          "name": "stdout"
        }
      ]
    },
    {
      "cell_type": "code",
      "metadata": {
        "id": "RMrjkeMzTNYB",
        "colab": {
          "base_uri": "https://localhost:8080/"
        },
        "outputId": "adf3b295-72b6-428d-9ba5-8c081663a717"
      },
      "source": [
        "y_batch"
      ],
      "execution_count": null,
      "outputs": [
        {
          "output_type": "execute_result",
          "data": {
            "text/plain": [
              "array([[0., 0., 0., 0., 0., 0., 0., 0., 1., 0.],\n",
              "       [0., 0., 0., 0., 1., 0., 0., 0., 0., 0.],\n",
              "       [0., 0., 0., 0., 0., 1., 0., 0., 0., 0.],\n",
              "       [1., 0., 0., 0., 0., 0., 0., 0., 0., 0.],\n",
              "       [0., 0., 0., 0., 0., 0., 0., 1., 0., 0.],\n",
              "       [0., 0., 0., 0., 1., 0., 0., 0., 0., 0.],\n",
              "       [0., 0., 0., 0., 1., 0., 0., 0., 0., 0.],\n",
              "       [0., 0., 0., 1., 0., 0., 0., 0., 0., 0.],\n",
              "       [1., 0., 0., 0., 0., 0., 0., 0., 0., 0.],\n",
              "       [0., 0., 1., 0., 0., 0., 0., 0., 0., 0.]])"
            ]
          },
          "metadata": {
            "tags": []
          },
          "execution_count": 24
        }
      ]
    },
    {
      "cell_type": "code",
      "metadata": {
        "id": "C1mB4CA4TR1W"
      },
      "source": [
        "y_hat_batch = np.random.uniform(size=(100)).reshape(10,10)"
      ],
      "execution_count": null,
      "outputs": []
    },
    {
      "cell_type": "code",
      "metadata": {
        "id": "A_9kCfibUeWc",
        "colab": {
          "base_uri": "https://localhost:8080/"
        },
        "outputId": "d6a232eb-3fe7-4eb5-8469-4fa9c3ee6021"
      },
      "source": [
        "print(y_batch)\n",
        "print(y_hat_batch)"
      ],
      "execution_count": null,
      "outputs": [
        {
          "output_type": "stream",
          "text": [
            "[[0. 0. 0. 0. 0. 0. 0. 0. 1. 0.]\n",
            " [0. 0. 0. 0. 1. 0. 0. 0. 0. 0.]\n",
            " [0. 0. 0. 0. 0. 1. 0. 0. 0. 0.]\n",
            " [1. 0. 0. 0. 0. 0. 0. 0. 0. 0.]\n",
            " [0. 0. 0. 0. 0. 0. 0. 1. 0. 0.]\n",
            " [0. 0. 0. 0. 1. 0. 0. 0. 0. 0.]\n",
            " [0. 0. 0. 0. 1. 0. 0. 0. 0. 0.]\n",
            " [0. 0. 0. 1. 0. 0. 0. 0. 0. 0.]\n",
            " [1. 0. 0. 0. 0. 0. 0. 0. 0. 0.]\n",
            " [0. 0. 1. 0. 0. 0. 0. 0. 0. 0.]]\n",
            "[[0.61325574 0.68131024 0.84711606 0.59313166 0.34006486 0.34694717\n",
            "  0.62676818 0.40750531 0.71517665 0.60741071]\n",
            " [0.24096865 0.39322761 0.14265042 0.96497966 0.51601761 0.86529088\n",
            "  0.82295659 0.525772   0.68423581 0.77838767]\n",
            " [0.48648777 0.84475968 0.66376734 0.01954702 0.67349063 0.80162996\n",
            "  0.67258896 0.00640025 0.7644062  0.53065604]\n",
            " [0.5964664  0.49326329 0.02779739 0.3882493  0.16072632 0.14215142\n",
            "  0.35710413 0.30534143 0.27691816 0.76189562]\n",
            " [0.72338609 0.4716521  0.38994289 0.69310186 0.7313837  0.46209702\n",
            "  0.79617143 0.31060449 0.86572182 0.70528808]\n",
            " [0.61729325 0.26957736 0.44891838 0.53609344 0.79678273 0.47577922\n",
            "  0.36336033 0.08804962 0.8436335  0.43142657]\n",
            " [0.42555338 0.27777142 0.93721784 0.45604412 0.10588331 0.63625272\n",
            "  0.45826042 0.84376941 0.7209879  0.79037272]\n",
            " [0.25396689 0.66544693 0.01092643 0.68894433 0.14120307 0.55045865\n",
            "  0.80631244 0.54096797 0.8990653  0.01076247]\n",
            " [0.96835824 0.68200173 0.11934312 0.69376116 0.9841327  0.13926539\n",
            "  0.56735577 0.4008212  0.40899903 0.30015511]\n",
            " [0.01804105 0.00203466 0.83334137 0.23323094 0.73453656 0.68756683\n",
            "  0.57350501 0.90385752 0.287648   0.49786026]]\n"
          ],
          "name": "stdout"
        }
      ]
    },
    {
      "cell_type": "code",
      "metadata": {
        "id": "SXRAwephUiFd",
        "colab": {
          "base_uri": "https://localhost:8080/"
        },
        "outputId": "e93daeff-40d1-47c1-c0e6-e9a5fb76c909"
      },
      "source": [
        "np.sum(-1*y_batch*np.log(y_hat_batch))/10\n"
      ],
      "execution_count": null,
      "outputs": [
        {
          "output_type": "stream",
          "text": [
            "[[0. 0. 0. 0. 0. 0. 0. 0. 1. 0.]\n",
            " [0. 0. 0. 0. 1. 0. 0. 0. 0. 0.]\n",
            " [0. 0. 0. 0. 0. 1. 0. 0. 0. 0.]\n",
            " [1. 0. 0. 0. 0. 0. 0. 0. 0. 0.]\n",
            " [0. 0. 0. 0. 0. 0. 0. 1. 0. 0.]\n",
            " [0. 0. 0. 0. 1. 0. 0. 0. 0. 0.]\n",
            " [0. 0. 0. 0. 1. 0. 0. 0. 0. 0.]\n",
            " [0. 0. 0. 1. 0. 0. 0. 0. 0. 0.]\n",
            " [1. 0. 0. 0. 0. 0. 0. 0. 0. 0.]\n",
            " [0. 0. 1. 0. 0. 0. 0. 0. 0. 0.]]\n"
          ],
          "name": "stdout"
        }
      ]
    },
    {
      "cell_type": "code",
      "metadata": {
        "id": "YzFXf0jUU6Hm"
      },
      "source": [
        "def cross_entropy_error(y,y_hat):\n",
        "    if y.ndim == 1:\n",
        "        y_hat = y_hat.reshape(1,y_hat.size)\n",
        "        y = y.reshape(1,y.size)\n",
        "    delta = 1e-7\n",
        "\n",
        "    batch_size = y.shape[0]\n",
        "    return -1*np.sum(y*np.log(y_hat+delta))/batch_size\n"
      ],
      "execution_count": null,
      "outputs": []
    },
    {
      "cell_type": "code",
      "metadata": {
        "id": "IkCPR-O5V1C8",
        "colab": {
          "base_uri": "https://localhost:8080/"
        },
        "outputId": "424bae9c-f32d-45b1-d52d-7823adb6d14d"
      },
      "source": [
        "cross_entropy_error(y_batch,y_hat_batch)"
      ],
      "execution_count": null,
      "outputs": [
        {
          "output_type": "execute_result",
          "data": {
            "text/plain": [
              "0.596356396000766"
            ]
          },
          "metadata": {
            "tags": []
          },
          "execution_count": 18
        }
      ]
    },
    {
      "cell_type": "code",
      "metadata": {
        "id": "EQ_spuv5V8GX",
        "colab": {
          "base_uri": "https://localhost:8080/"
        },
        "outputId": "0b4a4244-4686-4dcc-bdba-48e25a46b8ff"
      },
      "source": [
        "cross_entropy_error(y,y_hat)"
      ],
      "execution_count": null,
      "outputs": [
        {
          "output_type": "execute_result",
          "data": {
            "text/plain": [
              "0.510825457099338"
            ]
          },
          "metadata": {
            "tags": []
          },
          "execution_count": 19
        }
      ]
    },
    {
      "cell_type": "code",
      "metadata": {
        "id": "Shif7AwKWRHK"
      },
      "source": [
        ""
      ],
      "execution_count": null,
      "outputs": []
    }
  ]
}