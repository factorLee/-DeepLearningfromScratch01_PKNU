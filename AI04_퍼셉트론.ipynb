{
  "nbformat": 4,
  "nbformat_minor": 0,
  "metadata": {
    "colab": {
      "name": "AI04_퍼셉트론.ipynb",
      "provenance": [],
      "authorship_tag": "ABX9TyNiJ5IYaS7JBtXEivtXaeFw",
      "include_colab_link": true
    },
    "kernelspec": {
      "name": "python3",
      "display_name": "Python 3"
    }
  },
  "cells": [
    {
      "cell_type": "markdown",
      "metadata": {
        "id": "view-in-github",
        "colab_type": "text"
      },
      "source": [
        "<a href=\"https://colab.research.google.com/github/factorLee/DeepLearningfromScratch01_PKNU/blob/main/AI04_%ED%8D%BC%EC%85%89%ED%8A%B8%EB%A1%A0.ipynb\" target=\"_parent\"><img src=\"https://colab.research.google.com/assets/colab-badge.svg\" alt=\"Open In Colab\"/></a>"
      ]
    },
    {
      "cell_type": "markdown",
      "metadata": {
        "id": "q65r4xYE69FF"
      },
      "source": [
        ""
      ]
    },
    {
      "cell_type": "code",
      "metadata": {
        "id": "JhntdqIB6yN9"
      },
      "source": [
        "# 함수의 입력값: x1,x2\n",
        "# 함수의 출력값: y\n",
        "# 패러미터: w1,w2,theta -> (함수 안에서 정의)\n",
        "def AND(x1,x2):\n",
        "    #w1 = 0.5\n",
        "    #w2 = 0.5\n",
        "    #theta = 0.7\n",
        "    w1,w2,theta = 1,1,1\n",
        "    tmp = w1*x1+w2*x2 #입력신호의 총합\n",
        "    if tmp<=theta:\n",
        "        return 0\n",
        "    else:\n",
        "        return 1\n"
      ],
      "execution_count": null,
      "outputs": []
    },
    {
      "cell_type": "code",
      "metadata": {
        "id": "lt8Fx4JJBnOc",
        "colab": {
          "base_uri": "https://localhost:8080/",
          "height": 85
        },
        "outputId": "f5deabdf-6933-4595-9003-640a9211b9ea"
      },
      "source": [
        "print(AND(0,0))\n",
        "print(AND(1,0))\n",
        "print(AND(0,1))\n",
        "print(AND(1,1))\n"
      ],
      "execution_count": null,
      "outputs": [
        {
          "output_type": "stream",
          "text": [
            "0\n",
            "0\n",
            "0\n",
            "1\n"
          ],
          "name": "stdout"
        }
      ]
    },
    {
      "cell_type": "markdown",
      "metadata": {
        "id": "OSnHmyguCFSR"
      },
      "source": [
        "## 넘파이를 사용한 퍼셉트론 연산"
      ]
    },
    {
      "cell_type": "code",
      "metadata": {
        "id": "z8UD9gy5ByWN"
      },
      "source": [
        "import numpy as np\n",
        "x = np.array([0,1]) # [x1,x2]로 표현하겠다.\n",
        "w = np.array([0.5,0.5]) # [w1,w2]\n",
        "b = -0.7\n"
      ],
      "execution_count": null,
      "outputs": []
    },
    {
      "cell_type": "code",
      "metadata": {
        "id": "UsvzNwXFDvFS",
        "colab": {
          "base_uri": "https://localhost:8080/",
          "height": 34
        },
        "outputId": "8912a783-0644-4901-dc63-8de6f398e585"
      },
      "source": [
        "print(w*x)"
      ],
      "execution_count": null,
      "outputs": [
        {
          "output_type": "stream",
          "text": [
            "[0.  0.5]\n"
          ],
          "name": "stdout"
        }
      ]
    },
    {
      "cell_type": "code",
      "metadata": {
        "id": "ct-0rskEDyXf",
        "colab": {
          "base_uri": "https://localhost:8080/",
          "height": 34
        },
        "outputId": "cda4fb0e-c284-41ea-f8d5-744001daa3b7"
      },
      "source": [
        "print(np.sum(w*x)+b)"
      ],
      "execution_count": null,
      "outputs": [
        {
          "output_type": "stream",
          "text": [
            "-0.19999999999999996\n"
          ],
          "name": "stdout"
        }
      ]
    },
    {
      "cell_type": "code",
      "metadata": {
        "id": "24G-jXj6EGTz"
      },
      "source": [
        "import numpy as np\n",
        "def AND(x1,x2):\n",
        "    x = np.array([x1,x2])\n",
        "    w = np.array([0.5,0.5])\n",
        "    b = -0.7\n",
        "    tmp = np.sum(w*x)+b\n",
        "    if tmp<=0:\n",
        "        return 0\n",
        "    else:\n",
        "        return 1"
      ],
      "execution_count": null,
      "outputs": []
    },
    {
      "cell_type": "code",
      "metadata": {
        "id": "5eaMI8dhEtrh",
        "colab": {
          "base_uri": "https://localhost:8080/",
          "height": 85
        },
        "outputId": "bbeb2151-2e70-4ec3-dfe7-26d553848db3"
      },
      "source": [
        "print(AND(0,0))\n",
        "print(AND(1,0))\n",
        "print(AND(0,1))\n",
        "print(AND(1,1))"
      ],
      "execution_count": null,
      "outputs": [
        {
          "output_type": "stream",
          "text": [
            "0\n",
            "0\n",
            "0\n",
            "1\n"
          ],
          "name": "stdout"
        }
      ]
    },
    {
      "cell_type": "code",
      "metadata": {
        "id": "5XAk-JWeEvU1"
      },
      "source": [
        "#NAND 게이트\n",
        "import numpy as np\n",
        "def NAND(x1,x2):\n",
        "    x = np.array([x1,x2])\n",
        "    w = np.array([-0.5,-0.5])\n",
        "    b = 0.7\n",
        "    tmp = np.sum(w*x)+b\n",
        "    if tmp <= 0:\n",
        "        return 0\n",
        "    else:\n",
        "        return 1"
      ],
      "execution_count": null,
      "outputs": []
    },
    {
      "cell_type": "code",
      "metadata": {
        "id": "8sAFBnnbFZOw",
        "colab": {
          "base_uri": "https://localhost:8080/",
          "height": 85
        },
        "outputId": "3a39efe1-741a-4698-fdb0-8e539614fd4d"
      },
      "source": [
        "print(NAND(0,0))\n",
        "print(NAND(1,0))\n",
        "print(NAND(0,1))\n",
        "print(NAND(1,1))"
      ],
      "execution_count": null,
      "outputs": [
        {
          "output_type": "stream",
          "text": [
            "1\n",
            "1\n",
            "1\n",
            "0\n"
          ],
          "name": "stdout"
        }
      ]
    },
    {
      "cell_type": "code",
      "metadata": {
        "id": "VNkoSzN0FaoN"
      },
      "source": [
        "# OR 게이트\n",
        "import numpy as np\n",
        "def OR(x1,x2):\n",
        "    x = np.array([x1,x2])\n",
        "    w = np.array([0.7,0.7])\n",
        "    b = -0.5\n",
        "    tmp = np.sum(w*x)+b\n",
        "    if tmp <= 0:\n",
        "        return 0\n",
        "    else:\n",
        "        return 1\n"
      ],
      "execution_count": null,
      "outputs": []
    },
    {
      "cell_type": "code",
      "metadata": {
        "id": "l-4A_gu1GGFH",
        "colab": {
          "base_uri": "https://localhost:8080/",
          "height": 85
        },
        "outputId": "30c2feab-ad1b-4821-de48-73ddc87767b4"
      },
      "source": [
        "print(OR(0,0))\n",
        "print(OR(1,0))\n",
        "print(OR(0,1))\n",
        "print(OR(1,1))"
      ],
      "execution_count": null,
      "outputs": [
        {
          "output_type": "stream",
          "text": [
            "0\n",
            "1\n",
            "1\n",
            "1\n"
          ],
          "name": "stdout"
        }
      ]
    },
    {
      "cell_type": "code",
      "metadata": {
        "id": "B2Vl5Q7XGIiB"
      },
      "source": [
        "# XOR 게이트\n",
        "import numpy as np\n",
        "def XOR(x1,x2):\n",
        "    s1 = NAND(x1,x2)\n",
        "    s2 = OR(x1,x2)\n",
        "    y = AND(s1,s2)\n",
        "    return y"
      ],
      "execution_count": null,
      "outputs": []
    },
    {
      "cell_type": "code",
      "metadata": {
        "id": "YdID9R4KPPtL",
        "colab": {
          "base_uri": "https://localhost:8080/",
          "height": 85
        },
        "outputId": "834a4584-4f7c-4d02-a506-339c6692ea47"
      },
      "source": [
        "print(XOR(0,0))\n",
        "print(XOR(1,0))\n",
        "print(XOR(0,1))\n",
        "print(XOR(1,1))"
      ],
      "execution_count": null,
      "outputs": [
        {
          "output_type": "stream",
          "text": [
            "0\n",
            "1\n",
            "1\n",
            "0\n"
          ],
          "name": "stdout"
        }
      ]
    },
    {
      "cell_type": "code",
      "metadata": {
        "id": "OE8Rg_lzPUNP"
      },
      "source": [
        ""
      ],
      "execution_count": null,
      "outputs": []
    }
  ]
}