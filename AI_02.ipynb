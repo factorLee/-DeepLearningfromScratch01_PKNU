{
  "nbformat": 4,
  "nbformat_minor": 0,
  "metadata": {
    "colab": {
      "name": "AI_02.ipynb",
      "provenance": [],
      "authorship_tag": "ABX9TyOME/UFjFUE1mxudzzTn83K",
      "include_colab_link": true
    },
    "kernelspec": {
      "name": "python3",
      "display_name": "Python 3"
    }
  },
  "cells": [
    {
      "cell_type": "markdown",
      "metadata": {
        "id": "view-in-github",
        "colab_type": "text"
      },
      "source": [
        "<a href=\"https://colab.research.google.com/github/factorLee/-DeepLearningfromScratch01_PKNU/blob/main/AI_02.ipynb\" target=\"_parent\"><img src=\"https://colab.research.google.com/assets/colab-badge.svg\" alt=\"Open In Colab\"/></a>"
      ]
    },
    {
      "cell_type": "markdown",
      "metadata": {
        "id": "9DMkZ-ruHi2J"
      },
      "source": [
        "## 1.3.1 산술연산"
      ]
    },
    {
      "cell_type": "code",
      "metadata": {
        "id": "zdmiOUjdG2yX",
        "colab": {
          "base_uri": "https://localhost:8080/",
          "height": 68
        },
        "outputId": "c55e309a-c6b5-4c53-ed51-4d440adf6f7f"
      },
      "source": [
        "print(1-2)\n",
        "print(4*5)\n",
        "print(3**2)"
      ],
      "execution_count": null,
      "outputs": [
        {
          "output_type": "stream",
          "text": [
            "-1\n",
            "20\n",
            "9\n"
          ],
          "name": "stdout"
        }
      ]
    },
    {
      "cell_type": "markdown",
      "metadata": {
        "id": "VCuybIWWHZEp"
      },
      "source": [
        "## 1.3.2 자료형"
      ]
    },
    {
      "cell_type": "code",
      "metadata": {
        "id": "a50_4Pp9H0wX",
        "colab": {
          "base_uri": "https://localhost:8080/",
          "height": 34
        },
        "outputId": "8a632d6e-bb58-4957-94e5-5fca132f29e5"
      },
      "source": [
        "type(10)"
      ],
      "execution_count": null,
      "outputs": [
        {
          "output_type": "execute_result",
          "data": {
            "text/plain": [
              "int"
            ]
          },
          "metadata": {
            "tags": []
          },
          "execution_count": 72
        }
      ]
    },
    {
      "cell_type": "code",
      "metadata": {
        "id": "CH5LS9giIA2L",
        "colab": {
          "base_uri": "https://localhost:8080/",
          "height": 34
        },
        "outputId": "6c56781a-e523-48d9-f575-304658219368"
      },
      "source": [
        "type(2.718)"
      ],
      "execution_count": null,
      "outputs": [
        {
          "output_type": "execute_result",
          "data": {
            "text/plain": [
              "float"
            ]
          },
          "metadata": {
            "tags": []
          },
          "execution_count": 73
        }
      ]
    },
    {
      "cell_type": "code",
      "metadata": {
        "id": "Io18NmsLIE5O",
        "colab": {
          "base_uri": "https://localhost:8080/",
          "height": 34
        },
        "outputId": "bbcc1333-5da2-45ff-cd91-fa5732ed8096"
      },
      "source": [
        "type('hello')"
      ],
      "execution_count": null,
      "outputs": [
        {
          "output_type": "execute_result",
          "data": {
            "text/plain": [
              "str"
            ]
          },
          "metadata": {
            "tags": []
          },
          "execution_count": 74
        }
      ]
    },
    {
      "cell_type": "code",
      "metadata": {
        "id": "ubTAiSSQIHXW",
        "colab": {
          "base_uri": "https://localhost:8080/",
          "height": 68
        },
        "outputId": "878ba98b-91b1-4746-e6e8-726138660452"
      },
      "source": [
        "print(type(10))\n",
        "print(type(2.718))\n",
        "print(type('hello'))"
      ],
      "execution_count": null,
      "outputs": [
        {
          "output_type": "stream",
          "text": [
            "<class 'int'>\n",
            "<class 'float'>\n",
            "<class 'str'>\n"
          ],
          "name": "stdout"
        }
      ]
    },
    {
      "cell_type": "code",
      "metadata": {
        "id": "KHfpQC6VIOJb"
      },
      "source": [
        ""
      ],
      "execution_count": null,
      "outputs": []
    },
    {
      "cell_type": "markdown",
      "metadata": {
        "id": "OXv34kMrIld5"
      },
      "source": [
        "## 1.3.3 변수"
      ]
    },
    {
      "cell_type": "code",
      "metadata": {
        "id": "_RZwi3NMIoTq",
        "colab": {
          "base_uri": "https://localhost:8080/",
          "height": 34
        },
        "outputId": "ea739d4d-29c0-4a0f-d624-dabb3521a97d"
      },
      "source": [
        "x = 10\n",
        "print(x)"
      ],
      "execution_count": null,
      "outputs": [
        {
          "output_type": "stream",
          "text": [
            "10\n"
          ],
          "name": "stdout"
        }
      ]
    },
    {
      "cell_type": "code",
      "metadata": {
        "id": "_Oz2P6ZCIqsV",
        "colab": {
          "base_uri": "https://localhost:8080/",
          "height": 34
        },
        "outputId": "19c6cc79-aef3-48ee-da53-8588cd46eaef"
      },
      "source": [
        "x = 100\n",
        "print(x)"
      ],
      "execution_count": null,
      "outputs": [
        {
          "output_type": "stream",
          "text": [
            "100\n"
          ],
          "name": "stdout"
        }
      ]
    },
    {
      "cell_type": "code",
      "metadata": {
        "id": "1r9qyQBiIwCN",
        "colab": {
          "base_uri": "https://localhost:8080/",
          "height": 34
        },
        "outputId": "ebe68de4-c595-4b85-88e0-6efde2a1bf36"
      },
      "source": [
        "y = 3.14\n",
        "# print(x*y)\n",
        "result = x*y\n",
        "print(result)"
      ],
      "execution_count": null,
      "outputs": [
        {
          "output_type": "stream",
          "text": [
            "314.0\n"
          ],
          "name": "stdout"
        }
      ]
    },
    {
      "cell_type": "code",
      "metadata": {
        "id": "8ibaMA6tI475"
      },
      "source": [
        ""
      ],
      "execution_count": null,
      "outputs": []
    },
    {
      "cell_type": "markdown",
      "metadata": {
        "id": "4N18D5CmJLuP"
      },
      "source": [
        "## 1.3.4 리스트"
      ]
    },
    {
      "cell_type": "code",
      "metadata": {
        "id": "I6B8KPLfJNV_",
        "colab": {
          "base_uri": "https://localhost:8080/",
          "height": 51
        },
        "outputId": "0bc56b35-0b32-47fb-8e6f-ab119e23ec9b"
      },
      "source": [
        "a = [1,2,3,4,5] # 백터 즉 리스트값이 생성\n",
        "print(a)\n",
        "print(len(a)) # len은 리스트에 저장된 값의 갯수를 반환시켜준다."
      ],
      "execution_count": null,
      "outputs": [
        {
          "output_type": "stream",
          "text": [
            "[1, 2, 3, 4, 5]\n",
            "5\n"
          ],
          "name": "stdout"
        }
      ]
    },
    {
      "cell_type": "code",
      "metadata": {
        "id": "Wxebj_GqJiaU",
        "colab": {
          "base_uri": "https://localhost:8080/",
          "height": 51
        },
        "outputId": "fa647f28-4fda-436f-b634-4ed27cae429f"
      },
      "source": [
        "print(a[0])\n",
        "print(a[0]+a[4])"
      ],
      "execution_count": null,
      "outputs": [
        {
          "output_type": "stream",
          "text": [
            "1\n",
            "6\n"
          ],
          "name": "stdout"
        }
      ]
    },
    {
      "cell_type": "code",
      "metadata": {
        "id": "xOcRhYX3J0Po",
        "colab": {
          "base_uri": "https://localhost:8080/",
          "height": 34
        },
        "outputId": "085d3b6a-47e6-4c0e-ade7-9db8157882b2"
      },
      "source": [
        "a[4] = 99\n",
        "print(a)"
      ],
      "execution_count": null,
      "outputs": [
        {
          "output_type": "stream",
          "text": [
            "[1, 2, 3, 4, 99]\n"
          ],
          "name": "stdout"
        }
      ]
    },
    {
      "cell_type": "code",
      "metadata": {
        "id": "fhOwGp7RKCE9",
        "colab": {
          "base_uri": "https://localhost:8080/",
          "height": 119
        },
        "outputId": "3812bdd0-fd9b-471b-ae10-92700f91fdcd"
      },
      "source": [
        "# 리스트의 슬라이싱\n",
        "print(a[1:]) # 두번째 값부터 끝까지 출력하라\n",
        "print(a[3:]) # 네번째 값부터 끝까지 출력하라\n",
        "print(a[:2]) # 처음부터 시작해서 2-1까지 출력하라\n",
        "print(a[:4])\n",
        "print(a[1:4])\n",
        "print(a[-1]) # 리스트 a의 가장 마지막 값을 출력하라"
      ],
      "execution_count": null,
      "outputs": [
        {
          "output_type": "stream",
          "text": [
            "[2, 3, 4, 99]\n",
            "[4, 99]\n",
            "[1, 2]\n",
            "[1, 2, 3, 4]\n",
            "[2, 3, 4]\n",
            "99\n"
          ],
          "name": "stdout"
        }
      ]
    },
    {
      "cell_type": "code",
      "metadata": {
        "id": "5HTkyZ8MKgyu"
      },
      "source": [
        ""
      ],
      "execution_count": null,
      "outputs": []
    },
    {
      "cell_type": "markdown",
      "metadata": {
        "id": "VtEmIv8_K7Rj"
      },
      "source": [
        "## 1.3.5 딕셔너리"
      ]
    },
    {
      "cell_type": "code",
      "metadata": {
        "id": "Gqt7jRBqK-IU",
        "colab": {
          "base_uri": "https://localhost:8080/",
          "height": 34
        },
        "outputId": "0c958afd-ed58-466a-93a9-f8fcdda9618f"
      },
      "source": [
        "me = {'height': 180, 'weight': 72}\n",
        "print(me)"
      ],
      "execution_count": null,
      "outputs": [
        {
          "output_type": "stream",
          "text": [
            "{'height': 180, 'weight': 72}\n"
          ],
          "name": "stdout"
        }
      ]
    },
    {
      "cell_type": "code",
      "metadata": {
        "id": "7wrpPpgHLVqw",
        "colab": {
          "base_uri": "https://localhost:8080/",
          "height": 51
        },
        "outputId": "f66cde6a-ab0e-4b7b-9d31-5488f5f897a9"
      },
      "source": [
        "print(me['weight'])\n",
        "print(me['height'])"
      ],
      "execution_count": null,
      "outputs": [
        {
          "output_type": "stream",
          "text": [
            "72\n",
            "180\n"
          ],
          "name": "stdout"
        }
      ]
    },
    {
      "cell_type": "code",
      "metadata": {
        "id": "OW1DnxeXLZVu",
        "colab": {
          "base_uri": "https://localhost:8080/",
          "height": 34
        },
        "outputId": "4812544b-28a6-4ada-d957-89daa1533253"
      },
      "source": [
        "me['age'] = 32\n",
        "print(me)"
      ],
      "execution_count": null,
      "outputs": [
        {
          "output_type": "stream",
          "text": [
            "{'height': 180, 'weight': 72, 'age': 32}\n"
          ],
          "name": "stdout"
        }
      ]
    },
    {
      "cell_type": "code",
      "metadata": {
        "id": "4lFq3_1yLrK9"
      },
      "source": [
        ""
      ],
      "execution_count": null,
      "outputs": []
    },
    {
      "cell_type": "markdown",
      "metadata": {
        "id": "i99RNnhALykk"
      },
      "source": [
        "## 1.3.6 bool"
      ]
    },
    {
      "cell_type": "code",
      "metadata": {
        "id": "noykZWi-L0Wa",
        "colab": {
          "base_uri": "https://localhost:8080/",
          "height": 34
        },
        "outputId": "0eb6c400-3362-4537-d739-0b38ef05356c"
      },
      "source": [
        "True"
      ],
      "execution_count": null,
      "outputs": [
        {
          "output_type": "execute_result",
          "data": {
            "text/plain": [
              "True"
            ]
          },
          "metadata": {
            "tags": []
          },
          "execution_count": 86
        }
      ]
    },
    {
      "cell_type": "code",
      "metadata": {
        "id": "t7EDpGzIL206",
        "colab": {
          "base_uri": "https://localhost:8080/",
          "height": 34
        },
        "outputId": "aa0da0c7-44b4-4f64-f9e1-a9c734c82269"
      },
      "source": [
        "False"
      ],
      "execution_count": null,
      "outputs": [
        {
          "output_type": "execute_result",
          "data": {
            "text/plain": [
              "False"
            ]
          },
          "metadata": {
            "tags": []
          },
          "execution_count": 87
        }
      ]
    },
    {
      "cell_type": "code",
      "metadata": {
        "id": "x-ckya7lL4EQ"
      },
      "source": [
        "hungry = True\n",
        "sleepy = False"
      ],
      "execution_count": null,
      "outputs": []
    },
    {
      "cell_type": "code",
      "metadata": {
        "id": "_9LU0VahL_wv",
        "colab": {
          "base_uri": "https://localhost:8080/",
          "height": 51
        },
        "outputId": "439e84db-477b-4689-ee24-79e1e6564de7"
      },
      "source": [
        "print(type(hungry))\n",
        "print(type(sleepy))"
      ],
      "execution_count": null,
      "outputs": [
        {
          "output_type": "stream",
          "text": [
            "<class 'bool'>\n",
            "<class 'bool'>\n"
          ],
          "name": "stdout"
        }
      ]
    },
    {
      "cell_type": "code",
      "metadata": {
        "id": "F6HoOBTPMEam",
        "colab": {
          "base_uri": "https://localhost:8080/",
          "height": 85
        },
        "outputId": "a192c780-1406-41ca-b83c-5727c4222aff"
      },
      "source": [
        "print(hungry)\n",
        "print(not hungry)\n",
        "print(sleepy)\n",
        "print(not sleepy)"
      ],
      "execution_count": null,
      "outputs": [
        {
          "output_type": "stream",
          "text": [
            "True\n",
            "False\n",
            "False\n",
            "True\n"
          ],
          "name": "stdout"
        }
      ]
    },
    {
      "cell_type": "code",
      "metadata": {
        "id": "05-jKKD3MNpN",
        "colab": {
          "base_uri": "https://localhost:8080/",
          "height": 34
        },
        "outputId": "2048d769-41fe-4396-bb58-73e3d0416ab9"
      },
      "source": [
        "# and\n",
        "print(hungry and sleepy)"
      ],
      "execution_count": null,
      "outputs": [
        {
          "output_type": "stream",
          "text": [
            "False\n"
          ],
          "name": "stdout"
        }
      ]
    },
    {
      "cell_type": "code",
      "metadata": {
        "id": "MjpN-YPqMdSx",
        "colab": {
          "base_uri": "https://localhost:8080/",
          "height": 34
        },
        "outputId": "8f5a6297-f60f-4132-f575-30898fafbfae"
      },
      "source": [
        "# or\n",
        "print(hungry or sleepy)"
      ],
      "execution_count": null,
      "outputs": [
        {
          "output_type": "stream",
          "text": [
            "True\n"
          ],
          "name": "stdout"
        }
      ]
    },
    {
      "cell_type": "code",
      "metadata": {
        "id": "UVtVtDxLMj1h"
      },
      "source": [
        ""
      ],
      "execution_count": null,
      "outputs": []
    },
    {
      "cell_type": "markdown",
      "metadata": {
        "id": "OwkH0k8oMv_n"
      },
      "source": [
        "## if문"
      ]
    },
    {
      "cell_type": "code",
      "metadata": {
        "id": "f6m-hP6TMxgX",
        "colab": {
          "base_uri": "https://localhost:8080/",
          "height": 34
        },
        "outputId": "d80519b3-81e6-40b0-fdfd-55fb48bab6bf"
      },
      "source": [
        "hungry = True\n",
        "if not hungry:\n",
        "    print('i am hungry')\n",
        "else:\n",
        "    print('not hungry')"
      ],
      "execution_count": null,
      "outputs": [
        {
          "output_type": "stream",
          "text": [
            "not hungry\n"
          ],
          "name": "stdout"
        }
      ]
    },
    {
      "cell_type": "code",
      "metadata": {
        "id": "ct2TfJKXM35A"
      },
      "source": [
        ""
      ],
      "execution_count": null,
      "outputs": []
    },
    {
      "cell_type": "markdown",
      "metadata": {
        "id": "pbhDiayrN4SW"
      },
      "source": [
        "## 1.3.8 for문\n"
      ]
    },
    {
      "cell_type": "code",
      "metadata": {
        "id": "HuWAS1qZN7lD",
        "colab": {
          "base_uri": "https://localhost:8080/",
          "height": 68
        },
        "outputId": "457fc48c-ce77-485e-e82d-131a11b7c28e"
      },
      "source": [
        "for i in [1,2,3]:\n",
        "    print(i)"
      ],
      "execution_count": null,
      "outputs": [
        {
          "output_type": "stream",
          "text": [
            "1\n",
            "2\n",
            "3\n"
          ],
          "name": "stdout"
        }
      ]
    },
    {
      "cell_type": "code",
      "metadata": {
        "id": "vy519oBnOEQ-",
        "colab": {
          "base_uri": "https://localhost:8080/",
          "height": 187
        },
        "outputId": "6589afb8-d947-48da-a430-cdc656ba4f52"
      },
      "source": [
        "a = [1,2,3,4,5]\n",
        "for i in a:\n",
        "    print(i)\n",
        "    print(i**2)"
      ],
      "execution_count": null,
      "outputs": [
        {
          "output_type": "stream",
          "text": [
            "1\n",
            "1\n",
            "2\n",
            "4\n",
            "3\n",
            "9\n",
            "4\n",
            "16\n",
            "5\n",
            "25\n"
          ],
          "name": "stdout"
        }
      ]
    },
    {
      "cell_type": "code",
      "metadata": {
        "id": "7m-omsUGOlkl"
      },
      "source": [
        ""
      ],
      "execution_count": null,
      "outputs": []
    },
    {
      "cell_type": "code",
      "metadata": {
        "id": "RJXVCdO3mFul"
      },
      "source": [
        ""
      ],
      "execution_count": null,
      "outputs": []
    },
    {
      "cell_type": "markdown",
      "metadata": {
        "id": "sCQaHn37Owkm"
      },
      "source": [
        "## 1.3.9 함수"
      ]
    },
    {
      "cell_type": "code",
      "metadata": {
        "id": "T3g5oW5SOyrV"
      },
      "source": [
        "def hello(object):\n",
        "    print('Hello' + object + '!')"
      ],
      "execution_count": null,
      "outputs": []
    },
    {
      "cell_type": "code",
      "metadata": {
        "id": "zyoP_SFlO88b",
        "colab": {
          "base_uri": "https://localhost:8080/",
          "height": 34
        },
        "outputId": "d471082c-55ff-4ba9-e9df-1a189b7951ab"
      },
      "source": [
        "hello(\"cat\")"
      ],
      "execution_count": null,
      "outputs": [
        {
          "output_type": "stream",
          "text": [
            "Hellocat!\n"
          ],
          "name": "stdout"
        }
      ]
    },
    {
      "cell_type": "code",
      "metadata": {
        "id": "6pWOBsnLO_Nx",
        "colab": {
          "base_uri": "https://localhost:8080/",
          "height": 34
        },
        "outputId": "95cb6ba7-ade1-4c57-f958-5d2a1957c2cb"
      },
      "source": [
        "hello(\"dog\")"
      ],
      "execution_count": null,
      "outputs": [
        {
          "output_type": "stream",
          "text": [
            "Hellodog!\n"
          ],
          "name": "stdout"
        }
      ]
    },
    {
      "cell_type": "code",
      "metadata": {
        "id": "dty3WFdHPlQP",
        "colab": {
          "base_uri": "https://localhost:8080/",
          "height": 34
        },
        "outputId": "04a44278-59a9-4164-b52a-d485ee52890f"
      },
      "source": [
        "hello('world')"
      ],
      "execution_count": null,
      "outputs": [
        {
          "output_type": "stream",
          "text": [
            "Helloworld!\n"
          ],
          "name": "stdout"
        }
      ]
    },
    {
      "cell_type": "code",
      "metadata": {
        "id": "2YM9TMZXPtWm"
      },
      "source": [
        ""
      ],
      "execution_count": null,
      "outputs": []
    },
    {
      "cell_type": "markdown",
      "metadata": {
        "id": "WqP7mBwfP6dj"
      },
      "source": [
        "## 1.4.2 클래스"
      ]
    },
    {
      "cell_type": "code",
      "metadata": {
        "id": "BfNMVYuCP9Y9"
      },
      "source": [
        "class Man:\n",
        "    # 생성자 (실제 무엇인가 하나 만들어질 때 무조건 한번 인잇은 실행됨)\n",
        "    def __init__(self, name): \n",
        "        self.name = name\n",
        "        print('Initialized!')\n",
        "\n",
        "    def hello(self):\n",
        "        print(\"Hello\" + self.name +\"!\")\n",
        "\n",
        "    def goodbye(self):\n",
        "        print(\"Good-bye\"+self.name+\"!\")\n",
        "    "
      ],
      "execution_count": null,
      "outputs": []
    },
    {
      "cell_type": "code",
      "metadata": {
        "id": "NBuD3f7FQt79",
        "colab": {
          "base_uri": "https://localhost:8080/",
          "height": 34
        },
        "outputId": "4d3ede89-aab1-446d-8c7b-4291d520dbcd"
      },
      "source": [
        "m = Man(\"David\")"
      ],
      "execution_count": null,
      "outputs": [
        {
          "output_type": "stream",
          "text": [
            "Initialized!\n"
          ],
          "name": "stdout"
        }
      ]
    },
    {
      "cell_type": "code",
      "metadata": {
        "id": "h7P64RfPQ35O",
        "colab": {
          "base_uri": "https://localhost:8080/",
          "height": 34
        },
        "outputId": "1ff373cb-b4eb-4732-cfe7-ad61513040b8"
      },
      "source": [
        "m.hello()"
      ],
      "execution_count": null,
      "outputs": [
        {
          "output_type": "stream",
          "text": [
            "HelloDavid!\n"
          ],
          "name": "stdout"
        }
      ]
    },
    {
      "cell_type": "code",
      "metadata": {
        "id": "qtgsw_FHR3bD",
        "colab": {
          "base_uri": "https://localhost:8080/",
          "height": 34
        },
        "outputId": "a7eb8971-8c2f-4774-d640-28f5d1a1f4d6"
      },
      "source": [
        "m.goodbye()"
      ],
      "execution_count": null,
      "outputs": [
        {
          "output_type": "stream",
          "text": [
            "Good-byeDavid!\n"
          ],
          "name": "stdout"
        }
      ]
    },
    {
      "cell_type": "code",
      "metadata": {
        "id": "iONi7DDHSTfM",
        "colab": {
          "base_uri": "https://localhost:8080/",
          "height": 34
        },
        "outputId": "754505b8-fbcc-4cb5-d38d-1e8cb9a7e75a"
      },
      "source": [
        "x = Man(\"X-man\")"
      ],
      "execution_count": null,
      "outputs": [
        {
          "output_type": "stream",
          "text": [
            "Initialized!\n"
          ],
          "name": "stdout"
        }
      ]
    },
    {
      "cell_type": "code",
      "metadata": {
        "id": "DCbKc0U5SgIA",
        "colab": {
          "base_uri": "https://localhost:8080/",
          "height": 34
        },
        "outputId": "56313eca-33ba-482f-ed16-988d261621d8"
      },
      "source": [
        "x.hello()"
      ],
      "execution_count": null,
      "outputs": [
        {
          "output_type": "stream",
          "text": [
            "HelloX-man!\n"
          ],
          "name": "stdout"
        }
      ]
    },
    {
      "cell_type": "code",
      "metadata": {
        "id": "QgLoWyI-SiEw",
        "colab": {
          "base_uri": "https://localhost:8080/",
          "height": 34
        },
        "outputId": "d3c2d2b4-a771-48d8-ff29-d26b297ce369"
      },
      "source": [
        "x.goodbye()"
      ],
      "execution_count": null,
      "outputs": [
        {
          "output_type": "stream",
          "text": [
            "Good-byeX-man!\n"
          ],
          "name": "stdout"
        }
      ]
    },
    {
      "cell_type": "code",
      "metadata": {
        "id": "DFXm3SLlSntr"
      },
      "source": [
        "class Calculator:\n",
        "    def __init__(self, a):\n",
        "        self.num = a\n",
        "\n",
        "    def add(self, b):\n",
        "        print(self.num + b)\n",
        "\n",
        "    def sub(self, b):\n",
        "        print(self.num - b)\n"
      ],
      "execution_count": null,
      "outputs": []
    },
    {
      "cell_type": "code",
      "metadata": {
        "id": "QgZjzFMsTbjq"
      },
      "source": [
        "calc = Calculator(2)"
      ],
      "execution_count": null,
      "outputs": []
    },
    {
      "cell_type": "code",
      "metadata": {
        "id": "8d88GuBOTjjz",
        "colab": {
          "base_uri": "https://localhost:8080/",
          "height": 34
        },
        "outputId": "b2ce9a55-e988-4b98-ce3b-68b8954ab7b2"
      },
      "source": [
        "calc.add(3)"
      ],
      "execution_count": null,
      "outputs": [
        {
          "output_type": "stream",
          "text": [
            "5\n"
          ],
          "name": "stdout"
        }
      ]
    },
    {
      "cell_type": "code",
      "metadata": {
        "id": "d8Wm0rh-TlhK"
      },
      "source": [
        "class Calcuator1:\n",
        "    def __init__(self, a):\n",
        "        self.num = a\n",
        "\n",
        "    def current(self):\n",
        "        print(self.num)\n",
        "\n",
        "    def add(self):\n",
        "        self.num = self.num + 1\n",
        "\n",
        "    def sub(self):\n",
        "        self.num = self.num - 1"
      ],
      "execution_count": null,
      "outputs": []
    },
    {
      "cell_type": "code",
      "metadata": {
        "id": "d-nhT52cVKWM"
      },
      "source": [
        "c = Calcuator1(10)"
      ],
      "execution_count": null,
      "outputs": []
    },
    {
      "cell_type": "code",
      "metadata": {
        "id": "8okYHlj9VOGs",
        "colab": {
          "base_uri": "https://localhost:8080/",
          "height": 34
        },
        "outputId": "606012d0-68f3-4e67-cef0-95c9384df565"
      },
      "source": [
        "c.current()"
      ],
      "execution_count": null,
      "outputs": [
        {
          "output_type": "stream",
          "text": [
            "10\n"
          ],
          "name": "stdout"
        }
      ]
    },
    {
      "cell_type": "code",
      "metadata": {
        "id": "rTubcFseVQV0",
        "colab": {
          "base_uri": "https://localhost:8080/",
          "height": 34
        },
        "outputId": "c29e89dd-dc05-4726-e60c-cd9813f13ad2"
      },
      "source": [
        "c.add()\n",
        "c.add()\n",
        "c.current()"
      ],
      "execution_count": null,
      "outputs": [
        {
          "output_type": "stream",
          "text": [
            "12\n"
          ],
          "name": "stdout"
        }
      ]
    },
    {
      "cell_type": "code",
      "metadata": {
        "id": "Jl02Td6FVXhM",
        "colab": {
          "base_uri": "https://localhost:8080/",
          "height": 34
        },
        "outputId": "1b6492cd-9878-455d-bd1c-b323a79bd56e"
      },
      "source": [
        "c.sub()\n",
        "c.current()"
      ],
      "execution_count": null,
      "outputs": [
        {
          "output_type": "stream",
          "text": [
            "11\n"
          ],
          "name": "stdout"
        }
      ]
    },
    {
      "cell_type": "code",
      "metadata": {
        "id": "C3i-Hqs1VedP"
      },
      "source": [
        ""
      ],
      "execution_count": null,
      "outputs": []
    }
  ]
}