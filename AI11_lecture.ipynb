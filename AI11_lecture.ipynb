{
  "nbformat": 4,
  "nbformat_minor": 0,
  "metadata": {
    "colab": {
      "name": "AI11_lecture.ipynb",
      "provenance": [],
      "toc_visible": true,
      "authorship_tag": "ABX9TyMpWefgzm4z5ylZxbERQ9OG",
      "include_colab_link": true
    },
    "kernelspec": {
      "name": "python3",
      "display_name": "Python 3"
    }
  },
  "cells": [
    {
      "cell_type": "markdown",
      "metadata": {
        "id": "view-in-github",
        "colab_type": "text"
      },
      "source": [
        "<a href=\"https://colab.research.google.com/github/factorLee/DeepLearningfromScratch01_PKNU/blob/main/AI11_lecture.ipynb\" target=\"_parent\"><img src=\"https://colab.research.google.com/assets/colab-badge.svg\" alt=\"Open In Colab\"/></a>"
      ]
    },
    {
      "cell_type": "markdown",
      "metadata": {
        "id": "Un9AWMHHyEFC"
      },
      "source": [
        "## 단순 신경방 기울기 구하기"
      ]
    },
    {
      "cell_type": "code",
      "metadata": {
        "id": "QIvpUZmdpRyD"
      },
      "source": [
        "import numpy as np\n",
        "from functions import softmax, cross_entropy_error\n",
        "from gradient import numerical_gradient"
      ],
      "execution_count": null,
      "outputs": []
    },
    {
      "cell_type": "code",
      "metadata": {
        "id": "ySY49A7Ry1Oj"
      },
      "source": [
        "# 인공신경망(1층짜리) 클래스 생성\n",
        "class simpleNet:\n",
        "    def __init__(self):\n",
        "        self.W = np.random.rand(2,3)\n",
        "\n",
        "    def predict(self, x): # 어떤 입력값 x\n",
        "        return np.dot(x, self.W) # np.dot => x랑 self.W랑 곱해라\n",
        "    \n",
        "    def loss(self, x, y): # 교과서와 다르게 y라는 걸 실제 정답으로 사용\n",
        "        z = self.predict(x) # 중간에 계산된 z 값\n",
        "        y_pred = softmax(z) # z값을 softmax 함수에 넣어 y_pred라는 예상되는 y값을 구함\n",
        "        loss = cross_entropy_error(y_pred, y)\n",
        "        return loss\n",
        "\n"
      ],
      "execution_count": null,
      "outputs": []
    },
    {
      "cell_type": "code",
      "metadata": {
        "colab": {
          "base_uri": "https://localhost:8080/"
        },
        "id": "O1N4BWhI0Z00",
        "outputId": "3f19f845-e02e-401c-b243-42b413a467f4"
      },
      "source": [
        "# 객체 생성\n",
        "net = simpleNet()\n",
        "print(net.W)"
      ],
      "execution_count": null,
      "outputs": [
        {
          "output_type": "stream",
          "text": [
            "[[0.30284263 0.88802753 0.83908656]\n",
            " [0.74822282 0.26799269 0.66539548]]\n"
          ],
          "name": "stdout"
        }
      ]
    },
    {
      "cell_type": "code",
      "metadata": {
        "colab": {
          "base_uri": "https://localhost:8080/"
        },
        "id": "I2M-90m10sh2",
        "outputId": "938c5186-0179-4748-d2e9-9717fee28e19"
      },
      "source": [
        "x = np.array([0.6,0.9])\n",
        "y = np.array([0,0,1])\n",
        "\n",
        "net.loss(x,y)"
      ],
      "execution_count": null,
      "outputs": [
        {
          "output_type": "execute_result",
          "data": {
            "text/plain": [
              "0.916743001543277"
            ]
          },
          "metadata": {
            "tags": []
          },
          "execution_count": 6
        }
      ]
    },
    {
      "cell_type": "code",
      "metadata": {
        "colab": {
          "base_uri": "https://localhost:8080/"
        },
        "id": "YgXbF-um1Slh",
        "outputId": "e7769e06-8550-4098-ee15-27efdfe51b62"
      },
      "source": [
        "# 기울기 구하기\n",
        "def f(W):\n",
        "    return net.loss(x,y)\n",
        "\n",
        "numerical_gradient(f, net.W) # 기울기가 된다.\n"
      ],
      "execution_count": null,
      "outputs": [
        {
          "output_type": "execute_result",
          "data": {
            "text/plain": [
              "array([[ 0.1873511 ,  0.17275739, -0.36010849],\n",
              "       [ 0.28102665,  0.25913608, -0.54016274]])"
            ]
          },
          "metadata": {
            "tags": []
          },
          "execution_count": 7
        }
      ]
    },
    {
      "cell_type": "code",
      "metadata": {
        "colab": {
          "base_uri": "https://localhost:8080/"
        },
        "id": "U6ZQHlzh24CY",
        "outputId": "53e454a9-2ddd-42d7-96fd-2d0d27007cab"
      },
      "source": [
        "# 람다식\n",
        "f = lambda W: net.loss(x,y)\n",
        "numerical_gradient(f,net.W)"
      ],
      "execution_count": null,
      "outputs": [
        {
          "output_type": "execute_result",
          "data": {
            "text/plain": [
              "array([[ 0.1873511 ,  0.17275739, -0.36010849],\n",
              "       [ 0.28102665,  0.25913608, -0.54016274]])"
            ]
          },
          "metadata": {
            "tags": []
          },
          "execution_count": 8
        }
      ]
    },
    {
      "cell_type": "markdown",
      "metadata": {
        "id": "J8Gd7lJ_9E2o"
      },
      "source": [
        "## 2층 신경망"
      ]
    },
    {
      "cell_type": "code",
      "metadata": {
        "id": "txulKVea3inU"
      },
      "source": [
        "from functions import *\n",
        "from gradient import numerical_gradient\n",
        "\n",
        "class TwoLayerNet:\n",
        "    #패러미터 초기화\n",
        "    def __init__(self, input_size, hidden_size, output_size, weight_init_std=0.01):\n",
        "        self.params = {}\n",
        "        self.params['W1'] = weight_init_std * np.random.randn(input_size, hidden_size)\n",
        "        self.params['b1'] = np.zeros(hidden_size)\n",
        "        self.params['W2'] = weight_init_std*np.random.randn(hidden_size, output_size)\n",
        "        self.params['b2'] = np.zeros(output_size)\n",
        "\n",
        "    # 신경망 연산\n",
        "    def predict(self, x):\n",
        "        W1 = self.params['W1']\n",
        "        b1 = self.params['b1']\n",
        "        W2 = self.params['W2']\n",
        "        b2 = self.params['b2']\n",
        "\n",
        "        a1 = np.dot(x,W1) + b1\n",
        "        z1 = sigmoid(a1)\n",
        "        a2 = np.dot(z1,W2) + b2\n",
        "        y = softmax(a2)\n",
        "\n",
        "        return y\n",
        "\n",
        "    # loss값 계산\n",
        "    def loss(self,x,y):\n",
        "        y_pred = self.predict(x)\n",
        "        return cross_entropy_error(y_pred,y)\n",
        "\n",
        "    # 정확도 계산\n",
        "    def accuracy(self,x,y):\n",
        "        y_pred = self.predict(x)\n",
        "        y_pred_label = np.argmax(y_pred,axis = 1)\n",
        "        y_label = np.argmax(y, axis=1)\n",
        "\n",
        "        accuracy = np.sum(y_pred_label == y_label)/float(x.shape[0])\n",
        "        return accuracy\n",
        "\n",
        "    # 현재 패러미터의 기울기\n",
        "    def numerical_gradient(self,x,y):\n",
        "        loss_W = lambda W: self.loss(x,y)\n",
        "\n",
        "        grads={}\n",
        "        grads['W1'] = numerical_gradient(loss_W, self.params['W1'])\n",
        "        grads['b1'] = numerical_gradient(loss_W, self.params['b1'])\n",
        "        grads['W2'] = numerical_gradient(loss_W, self.params['W2'])\n",
        "        grads['b2'] = numerical_gradient(loss_W, self.params['b2'])\n",
        "\n",
        "        return grads"
      ],
      "execution_count": null,
      "outputs": []
    },
    {
      "cell_type": "code",
      "metadata": {
        "id": "uKzDOggwCEXS"
      },
      "source": [
        "# 실제 계산\n",
        "net = TwoLayerNet(input_size=784,hidden_size=100,output_size=10)\n",
        "x = np.random.rand(100,784)\n",
        "y_pred = net.predict(x)\n"
      ],
      "execution_count": null,
      "outputs": []
    },
    {
      "cell_type": "code",
      "metadata": {
        "id": "VIn14eZrGbS0"
      },
      "source": [
        "x = np.random.rand(100,784)\n",
        "y = np.random.rand(100,10)\n",
        "grads = net.numerical_gradient(x,y)\n"
      ],
      "execution_count": null,
      "outputs": []
    },
    {
      "cell_type": "code",
      "metadata": {
        "colab": {
          "base_uri": "https://localhost:8080/"
        },
        "id": "CsdrFsBjIbZd",
        "outputId": "d8d37dd4-c8ef-4519-9d51-06c0b6dd216e"
      },
      "source": [
        "grads['W1'] # 모든 패러미너에 대해서 기울기가 계산된다."
      ],
      "execution_count": null,
      "outputs": [
        {
          "output_type": "execute_result",
          "data": {
            "text/plain": [
              "array([[-1.43319712e-05,  4.66154582e-05, -1.61888367e-04, ...,\n",
              "         2.64553814e-04,  1.82145188e-06,  6.84304768e-05],\n",
              "       [ 1.54147828e-05,  7.33294514e-05, -5.71570991e-05, ...,\n",
              "         1.53555100e-04,  1.70616654e-05,  7.88972598e-05],\n",
              "       [ 8.16245715e-05, -8.90501806e-05, -1.78982020e-04, ...,\n",
              "         1.66843781e-04, -1.21993682e-05,  7.20978055e-05],\n",
              "       ...,\n",
              "       [-2.93346436e-05,  1.50457469e-05, -1.15826138e-04, ...,\n",
              "         2.20213479e-04,  5.86307736e-05,  1.02015083e-04],\n",
              "       [-5.89241367e-05,  6.75715950e-05, -9.88260385e-05, ...,\n",
              "         3.43747280e-04,  3.25031446e-05,  2.85164048e-05],\n",
              "       [ 5.12076093e-05,  2.62833888e-05, -2.16167999e-04, ...,\n",
              "         2.37435289e-04, -3.61289709e-05,  7.41697881e-05]])"
            ]
          },
          "metadata": {
            "tags": []
          },
          "execution_count": 12
        }
      ]
    },
    {
      "cell_type": "markdown",
      "metadata": {
        "id": "sUfbbDdeNFnZ"
      },
      "source": [
        "## 2층 신경망 학습하기(미니배치 학습 구현)"
      ]
    },
    {
      "cell_type": "code",
      "metadata": {
        "id": "g7uFvG3xK0rv",
        "colab": {
          "base_uri": "https://localhost:8080/"
        },
        "outputId": "09c36202-128a-49e5-c67f-578f09c9a2d0"
      },
      "source": [
        "import numpy as np\n",
        "from mnist import load_mnist\n",
        "from two_layer_net import TwoLayerNet\n",
        "\n",
        "(x_train,y_train),(x_test,y_test) = load_mnist(normalize = True, one_hot_label = True)\n",
        "train_loss_list=[]\n",
        "\n",
        "iter_num = 10000\n",
        "train_size = x_train.shape[0]\n",
        "batch_size = 100\n",
        "learning_rate = 0.1\n",
        "\n",
        "network = TwoLayerNet(input_size=784,hidden_size=50, output_size=10)\n",
        "for i in range(iter_num):\n",
        "    batch_mask = np.random.choice(train_size,batch_size)\n",
        "    x_batch = x_train[batch_mask]\n",
        "    y_batch = y_train[batch_mask]\n",
        "\n",
        "    grad = network.gradient(x_batch, y_batch)\n",
        "    #grad = network.numerical_gradient(x_batch, y_batch)\n",
        "    for key in ('W1','b1', 'W2', 'b2'):\n",
        "        network.params[key] -= learning_rate*grad[key]\n",
        "\n",
        "        loss = network.loss(x_batch, y_batch)\n",
        "        train_loss_list.append(loss)"
      ],
      "execution_count": null,
      "outputs": [
        {
          "output_type": "stream",
          "text": [
            "Converting train-images-idx3-ubyte.gz to NumPy Array ...\n",
            "Done\n",
            "Converting train-labels-idx1-ubyte.gz to NumPy Array ...\n",
            "Done\n",
            "Converting t10k-images-idx3-ubyte.gz to NumPy Array ...\n",
            "Done\n",
            "Converting t10k-labels-idx1-ubyte.gz to NumPy Array ...\n",
            "Done\n",
            "Creating pickle file ...\n",
            "Done!\n"
          ],
          "name": "stdout"
        }
      ]
    },
    {
      "cell_type": "code",
      "metadata": {
        "colab": {
          "base_uri": "https://localhost:8080/"
        },
        "id": "Z9QaSE_5Ifba",
        "outputId": "94c44aa5-304e-49b5-b871-feb90ecdd651"
      },
      "source": [
        "x_train.shape"
      ],
      "execution_count": null,
      "outputs": [
        {
          "output_type": "execute_result",
          "data": {
            "text/plain": [
              "(60000, 784)"
            ]
          },
          "metadata": {
            "tags": []
          },
          "execution_count": 14
        }
      ]
    },
    {
      "cell_type": "code",
      "metadata": {
        "colab": {
          "base_uri": "https://localhost:8080/",
          "height": 282
        },
        "id": "Y3Mxvs_tRM-I",
        "outputId": "b6b1b249-2547-498f-dc2d-d18e4b703698"
      },
      "source": [
        "import matplotlib.pyplot as plt\n",
        "plt.plot(train_loss_list)"
      ],
      "execution_count": null,
      "outputs": [
        {
          "output_type": "execute_result",
          "data": {
            "text/plain": [
              "[<matplotlib.lines.Line2D at 0x7f8415f08b00>]"
            ]
          },
          "metadata": {
            "tags": []
          },
          "execution_count": 15
        },
        {
          "output_type": "display_data",
          "data": {
            "image/png": "[encoded data removed]",
            "text/plain": [
              "<Figure size 432x288 with 1 Axes>"
            ]
          },
          "metadata": {
            "tags": [],
            "needs_background": "light"
          }
        }
      ]
    },
    {
      "cell_type": "markdown",
      "metadata": {
        "id": "OX7PNTMRSSUM"
      },
      "source": [
        "## 2층신경망 학습하고, 테스팅 데이터로 정확도 확인"
      ]
    },
    {
      "cell_type": "code",
      "metadata": {
        "colab": {
          "base_uri": "https://localhost:8080/"
        },
        "id": "ot_VHs6QSRDz",
        "outputId": "09de9178-9add-495e-bfeb-b7a13f22fb65"
      },
      "source": [
        " (x_train,y_train),(x_test,y_test) = load_mnist(normalize=True,one_hot_label=True)\n",
        " train_loss_list=[]\n",
        " train_acc_list=[]\n",
        " test_acc_list=[]\n",
        "\n",
        " iter_per_epoch=max(train_size/batch_size,1)\n",
        "\n",
        " iter_num = 10000\n",
        " train_size = x_train.shape[0]\n",
        " batch_size = 100\n",
        " learning_rate = 0.1\n",
        "\n",
        " network = TwoLayerNet(input_size=784,hidden_size=50,output_size=10)\n",
        " for i in range(iter_num):\n",
        "     batch_mask = np.random.choice(train_size,batch_size)\n",
        "     x_batch = x_train[batch_mask]\n",
        "     y_batch = y_train[batch_mask]\n",
        "\n",
        "     grad = network.gradient(x_batch,y_batch)\n",
        "     for key in ('W1','b1','W2','b2'):\n",
        "         network.params[key] -= learning_rate*grad[key]\n",
        "\n",
        "     loss = network.loss(x_batch,y_batch)\n",
        "     train_loss_list.append(loss)\n",
        "\n",
        "     if i%iter_per_epoch == 0:\n",
        "        train_acc = network.accuracy(x_train,y_train)\n",
        "        test_acc = network.accuracy(x_test,y_test)\n",
        "        train_acc_list.append(train_acc)\n",
        "        test_acc_list.append(test_acc)\n",
        "        print(f'train acc: {train_acc}, test acc:{test_acc}')\n"
      ],
      "execution_count": null,
      "outputs": [
        {
          "output_type": "stream",
          "text": [
            "train acc: 0.0993, test acc:0.1032\n",
            "train acc: 0.78425, test acc:0.7907\n",
            "train acc: 0.8774833333333333, test acc:0.8797\n",
            "train acc: 0.8972666666666667, test acc:0.9\n",
            "train acc: 0.9071333333333333, test acc:0.91\n",
            "train acc: 0.9128166666666667, test acc:0.9151\n",
            "train acc: 0.9194, test acc:0.9204\n",
            "train acc: 0.92385, test acc:0.9236\n",
            "train acc: 0.9267833333333333, test acc:0.9273\n",
            "train acc: 0.9314, test acc:0.9295\n",
            "train acc: 0.9332333333333334, test acc:0.9324\n",
            "train acc: 0.9359166666666666, test acc:0.9359\n",
            "train acc: 0.9375333333333333, test acc:0.9363\n",
            "train acc: 0.9405666666666667, test acc:0.9396\n",
            "train acc: 0.9427333333333333, test acc:0.9417\n",
            "train acc: 0.9449, test acc:0.9435\n",
            "train acc: 0.94715, test acc:0.9453\n"
          ],
          "name": "stdout"
        }
      ]
    },
    {
      "cell_type": "code",
      "metadata": {
        "id": "JQMNcRiOWP99",
        "colab": {
          "base_uri": "https://localhost:8080/",
          "height": 282
        },
        "outputId": "765beafa-df82-40eb-dcd7-900d342789ce"
      },
      "source": [
        "plt.plot(train_acc_list,'-')\n",
        "plt.plot(test_acc_list,'--')\n"
      ],
      "execution_count": null,
      "outputs": [
        {
          "output_type": "execute_result",
          "data": {
            "text/plain": [
              "[<matplotlib.lines.Line2D at 0x7f8416054470>]"
            ]
          },
          "metadata": {
            "tags": []
          },
          "execution_count": 17
        },
        {
          "output_type": "display_data",
          "data": {
            "image/png": "[encoded data removed]",
            "text/plain": [
              "<Figure size 432x288 with 1 Axes>"
            ]
          },
          "metadata": {
            "tags": [],
            "needs_background": "light"
          }
        }
      ]
    }
  ]
}