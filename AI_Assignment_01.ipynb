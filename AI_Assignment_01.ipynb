{
  "nbformat": 4,
  "nbformat_minor": 0,
  "metadata": {
    "colab": {
      "name": "AI_과제01_연습문제(2).ipynb",
      "provenance": [],
      "authorship_tag": "ABX9TyOjrn4zpHOWrUQYPBSIoWMW",
      "include_colab_link": true
    },
    "kernelspec": {
      "name": "python3",
      "display_name": "Python 3"
    }
  },
  "cells": [
    {
      "cell_type": "markdown",
      "metadata": {
        "id": "view-in-github",
        "colab_type": "text"
      },
      "source": [
        "<a href=\"https://colab.research.google.com/github/factorLee/DeepLearningfromScratch01_PKNU/blob/main/AI_Assignment_01.ipynb\" target=\"_parent\"><img src=\"https://colab.research.google.com/assets/colab-badge.svg\" alt=\"Open In Colab\"/></a>"
      ]
    },
    {
      "cell_type": "markdown",
      "metadata": {
        "id": "z837pDEn0cY0"
      },
      "source": [
        "## 인공지능개론 과제01 연습문제(2)\n",
        "### 201730262 이상주"
      ]
    },
    {
      "cell_type": "markdown",
      "metadata": {
        "id": "VYYrtzuUEl56"
      },
      "source": [
        "## 1. 데이터 불러오기"
      ]
    },
    {
      "cell_type": "code",
      "metadata": {
        "id": "rCkfYlWAz0xp"
      },
      "source": [
        "import pandas as pd\n",
        "import numpy as np\n",
        "\n",
        "df=pd.read_csv('https://raw.githubusercontent.com/ralbu85/DataSet/master/iris.csv')\n",
        "data=np.array(df)\n",
        "x=data[:,:4]\n",
        "y=data[:,4].astype(int)"
      ],
      "execution_count": null,
      "outputs": []
    },
    {
      "cell_type": "code",
      "metadata": {
        "id": "ZCfTDt5Vz7bN"
      },
      "source": [
        "def get_data():\n",
        "    df=pd.read_csv('https://raw.githubusercontent.com/ralbu85/DataSet/master/iris.csv')\n",
        "    data=np.array(df)\n",
        "    x=data[:,:4]\n",
        "    y=data[:,4].astype(int)\n",
        "    return x,y"
      ],
      "execution_count": null,
      "outputs": []
    },
    {
      "cell_type": "code",
      "metadata": {
        "id": "uHdE5oLZ0CE0"
      },
      "source": [
        "x_train,y_train = get_data()"
      ],
      "execution_count": null,
      "outputs": []
    },
    {
      "cell_type": "markdown",
      "metadata": {
        "id": "1qzev0yWEvV4"
      },
      "source": [
        "## 2. 활성화 함수 및 출력 함수 정의"
      ]
    },
    {
      "cell_type": "code",
      "metadata": {
        "id": "dp5xu-3YC-AK"
      },
      "source": [
        "# sigmoid 활성화 함수\n",
        "def sigmoid(x):\n",
        "    return 1/(1+np.exp(-x))\n",
        "\n",
        "def softmax(x):\n",
        "    C = np.max(x)\n",
        "    return np.exp(x-C)/np.sum(np.exp(x-C))"
      ],
      "execution_count": null,
      "outputs": []
    },
    {
      "cell_type": "markdown",
      "metadata": {
        "id": "IkwktPddE28U"
      },
      "source": [
        "## 3. 신경망 디자인\n"
      ]
    },
    {
      "cell_type": "code",
      "metadata": {
        "id": "ZYsGzszL0Gh4"
      },
      "source": [
        "def init_network():\n",
        "    network={}\n",
        "    network['W1'] = np.random.normal(size=(4,100)) # 4by100: 첫번째 은닉층 뉴런이 100이기 때문\n",
        "    network['b1'] = np.random.normal(size=(100,)) \n",
        "    network['W2'] = np.random.normal(size=(100,50)) # 100by50: 두번째 은닉층 뉴런이 50\n",
        "    network['b2'] = np.random.normal(size=(50,))\n",
        "    network['W3'] = np.random.normal(size=(50,3)) # 50by3 \n",
        "    network['b3'] = np.random.normal(size=(3,))\n",
        "    return network\n",
        "\n",
        "def predict(network,x):\n",
        "    W1,W2,W3 = network['W1'], network['W2'], network['W3']\n",
        "    b1,b2,b3 = network['b1'], network['b2'], network['b3']\n",
        "\n",
        "    a1 = np.dot(x,W1)+b1\n",
        "    z1 = sigmoid(a1)\n",
        "    a2 = np.dot(z1,W2)+b2\n",
        "    z2 = sigmoid(a2)\n",
        "    a3 = np.dot(z2,W3)+b3\n",
        "    y = softmax(a3)\n",
        "    return y"
      ],
      "execution_count": null,
      "outputs": []
    },
    {
      "cell_type": "code",
      "metadata": {
        "id": "mWzwpgKGDz13"
      },
      "source": [
        "network = init_network()"
      ],
      "execution_count": null,
      "outputs": []
    },
    {
      "cell_type": "code",
      "metadata": {
        "id": "XPNvkmCBDMHT",
        "colab": {
          "base_uri": "https://localhost:8080/",
          "height": 34
        },
        "outputId": "44c2dc7c-398c-4560-f7d1-dfcd6eeaa49c"
      },
      "source": [
        "accuracy_cut = 0\n",
        "batch_size = 100\n",
        "for i in range(0,len(x_train),batch_size):\n",
        "    x_batch = x_train[i:i+batch_size]\n",
        "    pred = predict(network, x_batch)\n",
        "    p = np.argmax(pred,axis=1)\n",
        "    accuracy_cut += np.sum(p==y_train[i:i+batch_size])\n",
        "\n",
        "accuracy=float(accuracy_cut)/len(x_train)\n",
        "print('Accuracy:', accuracy)"
      ],
      "execution_count": null,
      "outputs": [
        {
          "output_type": "stream",
          "text": [
            "Accuracy: 0.3333333333333333\n"
          ],
          "name": "stdout"
        }
      ]
    },
    {
      "cell_type": "code",
      "metadata": {
        "id": "1eCcWlAaDSaB"
      },
      "source": [
        ""
      ],
      "execution_count": null,
      "outputs": []
    }
  ]
}