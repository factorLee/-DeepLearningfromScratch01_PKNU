{
  "nbformat": 4,
  "nbformat_minor": 0,
  "metadata": {
    "colab": {
      "name": "AI_Assignment#02.ipynb",
      "provenance": [],
      "collapsed_sections": [],
      "include_colab_link": true
    },
    "kernelspec": {
      "name": "python3",
      "display_name": "Python 3"
    }
  },
  "cells": [
    {
      "cell_type": "markdown",
      "metadata": {
        "id": "view-in-github",
        "colab_type": "text"
      },
      "source": [
        "<a href=\"https://colab.research.google.com/github/factorLee/DeepLearningfromScratch01_PKNU/blob/main/AI_Assignment_02.ipynb\" target=\"_parent\"><img src=\"https://colab.research.google.com/assets/colab-badge.svg\" alt=\"Open In Colab\"/></a>"
      ]
    },
    {
      "cell_type": "markdown",
      "metadata": {
        "id": "DNadxcLE29li"
      },
      "source": [
        "## 인공지능개론 과제#02\n",
        "### 201730262 이상주"
      ]
    },
    {
      "cell_type": "markdown",
      "metadata": {
        "id": "88C1q6sWDovg"
      },
      "source": [
        "### (정답은 가장 하단부에 작성했습니다.)"
      ]
    },
    {
      "cell_type": "markdown",
      "metadata": {
        "id": "CKD094nx3TjJ"
      },
      "source": [
        "## 함수 및 Gradient descent 알고리즘 구현"
      ]
    },
    {
      "cell_type": "code",
      "metadata": {
        "id": "BWgfDc0n2j9q"
      },
      "source": [
        "import numpy as np\n",
        "import matplotlib.pyplot as plt\n",
        "\n",
        "# 함수 정의\n",
        "def funtion(x):\n",
        "    return np.sin(1/2*x[0]**2 - 1/4*x[1]**2 + 3)*np.cos(2*x[0] + 1 - np.exp(x[1]))"
      ],
      "execution_count": null,
      "outputs": []
    },
    {
      "cell_type": "code",
      "metadata": {
        "id": "vM_HOiRy3_cY"
      },
      "source": [
        "def numerical_gradient(f,x):\n",
        "    h = 1e-4\n",
        "    grad = np.zeros_like(x)\n",
        "\n",
        "    for idx in range(x.size):\n",
        "        temp_val = x[idx]\n",
        "\n",
        "        x[idx] = temp_val + h\n",
        "        fxh1 = f(x)\n",
        "\n",
        "        x[idx] = temp_val - h\n",
        "        fxh2 = f(x)\n",
        "\n",
        "        grad[idx] = (fxh1 - fxh2)/(2*h)\n",
        "        x[idx] = temp_val\n",
        "\n",
        "    return grad"
      ],
      "execution_count": null,
      "outputs": []
    },
    {
      "cell_type": "code",
      "metadata": {
        "id": "VUgBCXEzIbOX"
      },
      "source": [
        "def gradient_descent(f, init_x, lr, step_num=100):\n",
        "    x = init_x\n",
        "    x_history = []\n",
        "\n",
        "    for i in range(step_num):\n",
        "        x_history.append(x.copy()) # 대략적인 경로 및 발산여부를 확인에 사용하기위해 x_history 변수 생성\n",
        "\n",
        "        grad = numerical_gradient(f, x)\n",
        "        x -= lr*grad # 경사하강법 \n",
        "\n",
        "    return x, np.array(x_history)"
      ],
      "execution_count": null,
      "outputs": []
    },
    {
      "cell_type": "markdown",
      "metadata": {
        "id": "Vawx30fw2-JI"
      },
      "source": [
        "## 네개의 초기점에 따른 learning rate 값 찾기"
      ]
    },
    {
      "cell_type": "code",
      "metadata": {
        "id": "Y2Xjj9iwujL9",
        "colab": {
          "base_uri": "https://localhost:8080/",
          "height": 300
        },
        "outputId": "49d5e6a9-ae13-466c-ca00-ce26957b205f"
      },
      "source": [
        "# 직관적으로 살펴보기위해 그래프 사용\n",
        "# 초기값 1.0, 1.0\n",
        "init_x = np.array([1.0,1.0])\n",
        "\n",
        "x, x_history = gradient_descent(funtion, init_x=init_x, lr=0.0001)\n",
        "print(x)\n",
        "plt.plot([-1.5,1.5],[0,0], '--r')\n",
        "plt.plot([0,0],[-1.5,1.5], '--r')\n",
        "plt.plot(x_history[:,0], x_history[:,1],'<')\n",
        "\n",
        "plt.xlim(-1.5,1.5)\n",
        "plt.ylim(-1.5,1.5)\n",
        "plt.xlabel(\"X0\")\n",
        "plt.ylabel(\"X1\")\n",
        "plt.show()"
      ],
      "execution_count": null,
      "outputs": [
        {
          "output_type": "stream",
          "text": [
            "[1.00888312 0.99615572]\n"
          ],
          "name": "stdout"
        },
        {
          "output_type": "display_data",
          "data": {
            "image/png": "[encoded data removed]",
            "text/plain": [
              "<Figure size 432x288 with 1 Axes>"
            ]
          },
          "metadata": {
            "tags": [],
            "needs_background": "light"
          }
        }
      ]
    },
    {
      "cell_type": "code",
      "metadata": {
        "id": "bkBt0zvpy8t1",
        "colab": {
          "base_uri": "https://localhost:8080/",
          "height": 300
        },
        "outputId": "04a449d7-a550-4cbd-fa4f-838c5034ec08"
      },
      "source": [
        "# 초기값 -1.0, -1.0\n",
        "init_x = np.array([-1.0,-1.0])\n",
        "\n",
        "x, x_history = gradient_descent(funtion, init_x=init_x, lr=0.51)\n",
        "print(x)\n",
        "plt.plot([-1.5,1.5],[0,0], '--r')\n",
        "plt.plot([0,0],[-1.5,1.5], '--r')\n",
        "plt.plot(x_history[:,0], x_history[:,1],'<')\n",
        "\n",
        "plt.xlim(-1.5,1.5)\n",
        "plt.ylim(-1.5,1.5)\n",
        "plt.xlabel(\"X0\")\n",
        "plt.ylabel(\"X1\")\n",
        "plt.show()"
      ],
      "execution_count": null,
      "outputs": [
        {
          "output_type": "stream",
          "text": [
            "[-0.82293872 -0.49946569]\n"
          ],
          "name": "stdout"
        },
        {
          "output_type": "display_data",
          "data": {
            "image/png": "[encoded data removed]",
            "text/plain": [
              "<Figure size 432x288 with 1 Axes>"
            ]
          },
          "metadata": {
            "tags": [],
            "needs_background": "light"
          }
        }
      ]
    },
    {
      "cell_type": "code",
      "metadata": {
        "id": "u2_8wsZk062I",
        "colab": {
          "base_uri": "https://localhost:8080/",
          "height": 300
        },
        "outputId": "57b342c6-f100-4587-bc79-938a851c6a6a"
      },
      "source": [
        "# 초기값 1.0, -1.0\n",
        "init_x = np.array([1.0,-1.0])\n",
        "\n",
        "x, x_history = gradient_descent(funtion, init_x=init_x, lr=0.009)\n",
        "print(x)\n",
        "plt.plot([-1.5,1.5],[0,0], '--r')\n",
        "plt.plot([0,0],[-1.5,1.5], '--r')\n",
        "plt.plot(x_history[:,0], x_history[:,1],'<')\n",
        "\n",
        "plt.xlim(-1.5,1.5)\n",
        "plt.ylim(-1.5,1.5)\n",
        "plt.xlabel(\"X0\")\n",
        "plt.ylabel(\"X1\")\n",
        "plt.show()"
      ],
      "execution_count": null,
      "outputs": [
        {
          "output_type": "stream",
          "text": [
            "[ 0.75504055 -1.37716467]\n"
          ],
          "name": "stdout"
        },
        {
          "output_type": "display_data",
          "data": {
            "image/png": "[encoded data removed]",
            "text/plain": [
              "<Figure size 432x288 with 1 Axes>"
            ]
          },
          "metadata": {
            "tags": [],
            "needs_background": "light"
          }
        }
      ]
    },
    {
      "cell_type": "code",
      "metadata": {
        "id": "bHuW1kad09pe",
        "colab": {
          "base_uri": "https://localhost:8080/",
          "height": 300
        },
        "outputId": "ee12f626-5504-4b70-c947-4b71d0338758"
      },
      "source": [
        "# 초기값 -1.0, 1.0\n",
        "init_x = np.array([-1.0,1.0])\n",
        "\n",
        "x, x_history = gradient_descent(funtion, init_x=init_x, lr=0.0201)\n",
        "print(x)\n",
        "plt.plot([-1.5,1.5],[0,0], '--r')\n",
        "plt.plot([0,0],[-1.5,1.5], '--r')\n",
        "plt.plot(x_history[:,0], x_history[:,1],'>')\n",
        "\n",
        "plt.xlim(-1.5,1.5)\n",
        "plt.ylim(-1.5,1.5)\n",
        "plt.xlabel(\"X0\")\n",
        "plt.ylabel(\"X1\")\n",
        "plt.show()"
      ],
      "execution_count": null,
      "outputs": [
        {
          "output_type": "stream",
          "text": [
            "[7.05605451e-04 1.46218191e+00]\n"
          ],
          "name": "stdout"
        },
        {
          "output_type": "display_data",
          "data": {
            "image/png": "[encoded data removed]",
            "text/plain": [
              "<Figure size 432x288 with 1 Axes>"
            ]
          },
          "metadata": {
            "tags": [],
            "needs_background": "light"
          }
        }
      ]
    },
    {
      "cell_type": "markdown",
      "metadata": {
        "id": "zVu7Ymqv0Jp8"
      },
      "source": [
        "# 문제 1)\n",
        "- 초기점 1.0, 1.0의 learning rate: 0.0001\n",
        "- 초기점 -1.0, -1.0의 learning rate: 0.51\n",
        "- 초기점 1.0, -1.0의 learning rate: 0.009\n",
        "- 초기점 -1.0, 1.0의 learning rate: 0.0201"
      ]
    },
    {
      "cell_type": "markdown",
      "metadata": {
        "id": "0rKFig717auR"
      },
      "source": [
        "# 문제 2)\n",
        "- 네개의 초기점에 따라 서로 다른 최적해가 나왔으며, 이는 문제에 주에진 함수와 Gradient descent의 특성과 관련 있다고 생각합니다. 문제에서 주어진 함수는 강의 시간에 다루었던 단순한 Convex funtion이 아닌 복잡한 등고선을 갖는 함수이고 극소값을 향해가는 Gradient descent의 특성상 초기점(값)을 어디로 설정해 주느냐에따라 서로 다른 방향의 극소값의 방향으로 향할 수 있고 그에따라 함수를 줄이는 전체 최적 값(Global minima)은 아니지만 Global minima와 같이 접선의 기울기가 0이되는 Local minima에 빠질 수 있기 때문에 서로 다른 최적해가 나왔다고 생각합니다. "
      ]
    },
    {
      "cell_type": "code",
      "metadata": {
        "id": "eCYkWZmNFUX6"
      },
      "source": [
        "dltkdwn21123"
      ],
      "execution_count": null,
      "outputs": []
    }
  ]
}