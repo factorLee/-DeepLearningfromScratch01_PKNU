{
  "nbformat": 4,
  "nbformat_minor": 0,
  "metadata": {
    "colab": {
      "name": "AI05_신경망01.ipynb",
      "provenance": [],
      "authorship_tag": "ABX9TyO39267kYO44NmFYsa0I9iq",
      "include_colab_link": true
    },
    "kernelspec": {
      "name": "python3",
      "display_name": "Python 3"
    }
  },
  "cells": [
    {
      "cell_type": "markdown",
      "metadata": {
        "id": "view-in-github",
        "colab_type": "text"
      },
      "source": [
        "<a href=\"https://colab.research.google.com/github/factorLee/DeepLearningfromScratch01_PKNU/blob/main/AI05_%EC%8B%A0%EA%B2%BD%EB%A7%9D01.ipynb\" target=\"_parent\"><img src=\"https://colab.research.google.com/assets/colab-badge.svg\" alt=\"Open In Colab\"/></a>"
      ]
    },
    {
      "cell_type": "markdown",
      "metadata": {
        "id": "yGu-0BlmQZUH"
      },
      "source": [
        "# 예습"
      ]
    },
    {
      "cell_type": "code",
      "metadata": {
        "id": "9Zy7X2UbbCcZ"
      },
      "source": [
        "# 계단함수\n",
        "def step_funtion(x):\n",
        "    if x > 0:\n",
        "        return 1\n",
        "    else:\n",
        "        return 0"
      ],
      "execution_count": null,
      "outputs": []
    },
    {
      "cell_type": "code",
      "metadata": {
        "id": "uQyjqrK3bac4"
      },
      "source": [
        "def step_funtion(x):\n",
        "    y = x > 0\n",
        "    return y.astype(np.int)"
      ],
      "execution_count": null,
      "outputs": []
    },
    {
      "cell_type": "code",
      "metadata": {
        "id": "J5513A8_bir9",
        "colab": {
          "base_uri": "https://localhost:8080/",
          "height": 51
        },
        "outputId": "f02356ac-2164-4b23-aea8-e7b6c770683a"
      },
      "source": [
        "import numpy as np\n",
        "x = np.array([-1.0, 1.0, 2.0])\n",
        "y = x > 0\n",
        "print(y)\n",
        "y = y.astype(np.int)\n",
        "print(y)"
      ],
      "execution_count": null,
      "outputs": [
        {
          "output_type": "stream",
          "text": [
            "[False  True  True]\n",
            "[0 1 1]\n"
          ],
          "name": "stdout"
        }
      ]
    },
    {
      "cell_type": "code",
      "metadata": {
        "id": "Z0N87zCCbp4X",
        "colab": {
          "base_uri": "https://localhost:8080/",
          "height": 265
        },
        "outputId": "7dc39073-66ae-4e03-aeac-87eb6fda0d9b"
      },
      "source": [
        "import numpy as np\n",
        "import matplotlib.pylab as plt\n",
        "\n",
        "def step_funtion(x):\n",
        "    return np.array(x>0, dtype=np.int)\n",
        "\n",
        "x = np.arange(-5.0,5.0,0.1)\n",
        "y = step_funtion(x)\n",
        "plt.plot(x,y)\n",
        "plt.ylim(-0.1,1.1)\n",
        "plt.show()"
      ],
      "execution_count": null,
      "outputs": [
        {
          "output_type": "display_data",
          "data": {
            "image/png": "[encoded data removed]",
            "text/plain": [
              "<Figure size 432x288 with 1 Axes>"
            ]
          },
          "metadata": {
            "tags": [],
            "needs_background": "light"
          }
        }
      ]
    },
    {
      "cell_type": "code",
      "metadata": {
        "id": "GNkqqF84cV7r",
        "colab": {
          "base_uri": "https://localhost:8080/",
          "height": 265
        },
        "outputId": "ec0aabaf-7414-49c6-b2cd-0c6e2060bebd"
      },
      "source": [
        "# 시그모이드 함수\n",
        "import numpy as np\n",
        "import matplotlib.pyplot as plt\n",
        "\n",
        "def sigmoid(x):\n",
        "    return 1/(1+np.exp(-x))\n",
        "\n",
        "x = np.arange(-5.0,5.0,0.1)\n",
        "y = sigmoid(x)\n",
        "\n",
        "plt.plot(x,y)\n",
        "plt.ylim(-0.1,1.1)\n",
        "plt.show()"
      ],
      "execution_count": null,
      "outputs": [
        {
          "output_type": "display_data",
          "data": {
            "image/png": "[encoded data removed]",
            "text/plain": [
              "<Figure size 432x288 with 1 Axes>"
            ]
          },
          "metadata": {
            "tags": [],
            "needs_background": "light"
          }
        }
      ]
    },
    {
      "cell_type": "markdown",
      "metadata": {
        "id": "nN6D7e-3QT-o"
      },
      "source": [
        "# 여기부터 강의 내용"
      ]
    },
    {
      "cell_type": "markdown",
      "metadata": {
        "id": "Zvs4v1A1QWzH"
      },
      "source": [
        "## Step Funcion\n"
      ]
    },
    {
      "cell_type": "code",
      "metadata": {
        "id": "Ch5JsCJ8c8QQ"
      },
      "source": [
        "def step_funtion(x):\n",
        "    if x>=0:\n",
        "        return 1\n",
        "    else:\n",
        "        return 0"
      ],
      "execution_count": null,
      "outputs": []
    },
    {
      "cell_type": "code",
      "metadata": {
        "id": "v8TOOo7Zo1q3",
        "colab": {
          "base_uri": "https://localhost:8080/",
          "height": 34
        },
        "outputId": "47fe8528-cb78-4af5-b79c-571d5a06d06e"
      },
      "source": [
        "step_funtion(-3)"
      ],
      "execution_count": null,
      "outputs": [
        {
          "output_type": "execute_result",
          "data": {
            "text/plain": [
              "0"
            ]
          },
          "metadata": {
            "tags": []
          },
          "execution_count": 4
        }
      ]
    },
    {
      "cell_type": "code",
      "metadata": {
        "id": "JK-r3a4OpAOK",
        "colab": {
          "base_uri": "https://localhost:8080/",
          "height": 34
        },
        "outputId": "52c2e9a6-0f0f-4286-916b-4b76dccd4c14"
      },
      "source": [
        "import numpy as np\n",
        "\n",
        "## 벡터형태의 입력값에 대한 일괄연산\n",
        "# x는 numpy array\n",
        "def step_funtion(x):\n",
        "    for i in range(len(x)):\n",
        "        if x[i] >= 1:\n",
        "            x[i] = 1\n",
        "        else:\n",
        "            x[i] = 0\n",
        "    return x\n",
        "\n",
        "a = np.array([1.0,-1.0,2.0])\n",
        "step_funtion(a)"
      ],
      "execution_count": null,
      "outputs": [
        {
          "output_type": "execute_result",
          "data": {
            "text/plain": [
              "array([1., 0., 1.])"
            ]
          },
          "metadata": {
            "tags": []
          },
          "execution_count": 5
        }
      ]
    },
    {
      "cell_type": "code",
      "metadata": {
        "id": "T1Xi2k3_qrD8",
        "colab": {
          "base_uri": "https://localhost:8080/",
          "height": 34
        },
        "outputId": "fb8bb9e1-1382-4022-efab-1516c944fdc7"
      },
      "source": [
        "x = np.array([1.0,-2.1,3.2])\n",
        "y = x>=0\n",
        "print(y.astype(np.int))"
      ],
      "execution_count": null,
      "outputs": [
        {
          "output_type": "stream",
          "text": [
            "[1 0 1]\n"
          ],
          "name": "stdout"
        }
      ]
    },
    {
      "cell_type": "code",
      "metadata": {
        "id": "vjvCRucgu_ih",
        "colab": {
          "base_uri": "https://localhost:8080/",
          "height": 34
        },
        "outputId": "d18b1636-b699-41d8-fde9-cfcf1565da2b"
      },
      "source": [
        "def step_funtion(x):\n",
        "    y = x>=0\n",
        "    return y.astype(np.int)\n",
        "\n",
        "a = np.array([1.0,-1.1,-2.0])\n",
        "step_funtion(a)"
      ],
      "execution_count": null,
      "outputs": [
        {
          "output_type": "execute_result",
          "data": {
            "text/plain": [
              "array([1, 0, 0])"
            ]
          },
          "metadata": {
            "tags": []
          },
          "execution_count": 13
        }
      ]
    },
    {
      "cell_type": "markdown",
      "metadata": {
        "id": "69II3BGDv61-"
      },
      "source": [
        "## Step funtion의 시각화"
      ]
    },
    {
      "cell_type": "code",
      "metadata": {
        "id": "Cs_y5Z26vvsi"
      },
      "source": [
        "x=np.arange(-5.0,5.0,0.1)\n",
        "y=step_funtion(x)"
      ],
      "execution_count": null,
      "outputs": []
    },
    {
      "cell_type": "code",
      "metadata": {
        "id": "hNkmWBQMwKY7",
        "colab": {
          "base_uri": "https://localhost:8080/",
          "height": 282
        },
        "outputId": "42f999bd-1bf6-44d4-f6e0-000be1ccf57c"
      },
      "source": [
        "import matplotlib.pyplot as plt\n",
        "plt.plot(x,y)"
      ],
      "execution_count": null,
      "outputs": [
        {
          "output_type": "execute_result",
          "data": {
            "text/plain": [
              "[<matplotlib.lines.Line2D at 0x7f084a96edd8>]"
            ]
          },
          "metadata": {
            "tags": []
          },
          "execution_count": 17
        },
        {
          "output_type": "display_data",
          "data": {
            "image/png": "[encoded data removed]",
            "text/plain": [
              "<Figure size 432x288 with 1 Axes>"
            ]
          },
          "metadata": {
            "tags": [],
            "needs_background": "light"
          }
        }
      ]
    },
    {
      "cell_type": "markdown",
      "metadata": {
        "id": "6XlyanRowg59"
      },
      "source": [
        "## Sigmoid Funtion"
      ]
    },
    {
      "cell_type": "code",
      "metadata": {
        "id": "zl87Y018we8g",
        "colab": {
          "base_uri": "https://localhost:8080/",
          "height": 357
        },
        "outputId": "e5aa3b0d-0e77-4108-b98b-656f693b31b7"
      },
      "source": [
        "1/(np.exp(-1*x)+1)"
      ],
      "execution_count": null,
      "outputs": [
        {
          "output_type": "execute_result",
          "data": {
            "text/plain": [
              "array([0.00669285, 0.00739154, 0.00816257, 0.0090133 , 0.0099518 ,\n",
              "       0.01098694, 0.01212843, 0.01338692, 0.01477403, 0.0163025 ,\n",
              "       0.01798621, 0.01984031, 0.02188127, 0.02412702, 0.02659699,\n",
              "       0.02931223, 0.03229546, 0.03557119, 0.03916572, 0.04310725,\n",
              "       0.04742587, 0.05215356, 0.05732418, 0.06297336, 0.06913842,\n",
              "       0.07585818, 0.0831727 , 0.09112296, 0.09975049, 0.10909682,\n",
              "       0.11920292, 0.13010847, 0.14185106, 0.15446527, 0.16798161,\n",
              "       0.18242552, 0.19781611, 0.21416502, 0.23147522, 0.24973989,\n",
              "       0.26894142, 0.2890505 , 0.31002552, 0.33181223, 0.35434369,\n",
              "       0.37754067, 0.40131234, 0.42555748, 0.450166  , 0.47502081,\n",
              "       0.5       , 0.52497919, 0.549834  , 0.57444252, 0.59868766,\n",
              "       0.62245933, 0.64565631, 0.66818777, 0.68997448, 0.7109495 ,\n",
              "       0.73105858, 0.75026011, 0.76852478, 0.78583498, 0.80218389,\n",
              "       0.81757448, 0.83201839, 0.84553473, 0.85814894, 0.86989153,\n",
              "       0.88079708, 0.89090318, 0.90024951, 0.90887704, 0.9168273 ,\n",
              "       0.92414182, 0.93086158, 0.93702664, 0.94267582, 0.94784644,\n",
              "       0.95257413, 0.95689275, 0.96083428, 0.96442881, 0.96770454,\n",
              "       0.97068777, 0.97340301, 0.97587298, 0.97811873, 0.98015969,\n",
              "       0.98201379, 0.9836975 , 0.98522597, 0.98661308, 0.98787157,\n",
              "       0.98901306, 0.9900482 , 0.9909867 , 0.99183743, 0.99260846])"
            ]
          },
          "metadata": {
            "tags": []
          },
          "execution_count": 23
        }
      ]
    },
    {
      "cell_type": "code",
      "metadata": {
        "id": "DzAhbHm0wlmL",
        "colab": {
          "base_uri": "https://localhost:8080/",
          "height": 357
        },
        "outputId": "a93f9cf4-4ebc-4598-be8d-1b24116a7f92"
      },
      "source": [
        "def sigmoid(x):\n",
        "    return 1/(1+np.exp(-1*x))\n",
        "sigmoid(x)"
      ],
      "execution_count": null,
      "outputs": [
        {
          "output_type": "execute_result",
          "data": {
            "text/plain": [
              "array([0.00669285, 0.00739154, 0.00816257, 0.0090133 , 0.0099518 ,\n",
              "       0.01098694, 0.01212843, 0.01338692, 0.01477403, 0.0163025 ,\n",
              "       0.01798621, 0.01984031, 0.02188127, 0.02412702, 0.02659699,\n",
              "       0.02931223, 0.03229546, 0.03557119, 0.03916572, 0.04310725,\n",
              "       0.04742587, 0.05215356, 0.05732418, 0.06297336, 0.06913842,\n",
              "       0.07585818, 0.0831727 , 0.09112296, 0.09975049, 0.10909682,\n",
              "       0.11920292, 0.13010847, 0.14185106, 0.15446527, 0.16798161,\n",
              "       0.18242552, 0.19781611, 0.21416502, 0.23147522, 0.24973989,\n",
              "       0.26894142, 0.2890505 , 0.31002552, 0.33181223, 0.35434369,\n",
              "       0.37754067, 0.40131234, 0.42555748, 0.450166  , 0.47502081,\n",
              "       0.5       , 0.52497919, 0.549834  , 0.57444252, 0.59868766,\n",
              "       0.62245933, 0.64565631, 0.66818777, 0.68997448, 0.7109495 ,\n",
              "       0.73105858, 0.75026011, 0.76852478, 0.78583498, 0.80218389,\n",
              "       0.81757448, 0.83201839, 0.84553473, 0.85814894, 0.86989153,\n",
              "       0.88079708, 0.89090318, 0.90024951, 0.90887704, 0.9168273 ,\n",
              "       0.92414182, 0.93086158, 0.93702664, 0.94267582, 0.94784644,\n",
              "       0.95257413, 0.95689275, 0.96083428, 0.96442881, 0.96770454,\n",
              "       0.97068777, 0.97340301, 0.97587298, 0.97811873, 0.98015969,\n",
              "       0.98201379, 0.9836975 , 0.98522597, 0.98661308, 0.98787157,\n",
              "       0.98901306, 0.9900482 , 0.9909867 , 0.99183743, 0.99260846])"
            ]
          },
          "metadata": {
            "tags": []
          },
          "execution_count": 24
        }
      ]
    },
    {
      "cell_type": "code",
      "metadata": {
        "id": "gbrFDDY2w-7w",
        "colab": {
          "base_uri": "https://localhost:8080/",
          "height": 282
        },
        "outputId": "27a5ed3b-1877-405d-be67-5e93256a067a"
      },
      "source": [
        "y = sigmoid(x)\n",
        "plt.plot(x,y)"
      ],
      "execution_count": null,
      "outputs": [
        {
          "output_type": "execute_result",
          "data": {
            "text/plain": [
              "[<matplotlib.lines.Line2D at 0x7f084a9502e8>]"
            ]
          },
          "metadata": {
            "tags": []
          },
          "execution_count": 25
        },
        {
          "output_type": "display_data",
          "data": {
            "image/png": "[encoded data removed]",
            "text/plain": [
              "<Figure size 432x288 with 1 Axes>"
            ]
          },
          "metadata": {
            "tags": [],
            "needs_background": "light"
          }
        }
      ]
    },
    {
      "cell_type": "markdown",
      "metadata": {
        "id": "dlhEZR2VxGCD"
      },
      "source": [
        "## ReLU Funtion"
      ]
    },
    {
      "cell_type": "code",
      "metadata": {
        "id": "OJ1dbOmcxDH3",
        "colab": {
          "base_uri": "https://localhost:8080/",
          "height": 367
        },
        "outputId": "081f302a-b63a-469a-a928-60ed9cdb4092"
      },
      "source": [
        "b= np.arange(-5.0,5.0,0.1)\n",
        "def relu(z):\n",
        "    for i in range(len(z)):\n",
        "        if z[i]>0:\n",
        "            z[i]=z[i]\n",
        "        else:\n",
        "            z[i]=0\n",
        "    return z\n",
        "y=relu(x)\n",
        "plt.plot(b,y)\n",
        "print(y)"
      ],
      "execution_count": null,
      "outputs": [
        {
          "output_type": "stream",
          "text": [
            "[0.  0.  0.  0.  0.  0.  0.  0.  0.  0.  0.  0.  0.  0.  0.  0.  0.  0.\n",
            " 0.  0.  0.  0.  0.  0.  0.  0.  0.  0.  0.  0.  0.  0.  0.  0.  0.  0.\n",
            " 0.  0.  0.  0.  0.  0.  0.  0.  0.  0.  0.  0.  0.  0.  0.  0.1 0.2 0.3\n",
            " 0.4 0.5 0.6 0.7 0.8 0.9 1.  1.1 1.2 1.3 1.4 1.5 1.6 1.7 1.8 1.9 2.  2.1\n",
            " 2.2 2.3 2.4 2.5 2.6 2.7 2.8 2.9 3.  3.1 3.2 3.3 3.4 3.5 3.6 3.7 3.8 3.9\n",
            " 4.  4.1 4.2 4.3 4.4 4.5 4.6 4.7 4.8 4.9]\n"
          ],
          "name": "stdout"
        },
        {
          "output_type": "display_data",
          "data": {
            "image/png": "[encoded data removed]",
            "text/plain": [
              "<Figure size 432x288 with 1 Axes>"
            ]
          },
          "metadata": {
            "tags": [],
            "needs_background": "light"
          }
        }
      ]
    },
    {
      "cell_type": "code",
      "metadata": {
        "id": "Iu4hDRT-xtXA"
      },
      "source": [
        ""
      ],
      "execution_count": null,
      "outputs": []
    },
    {
      "cell_type": "code",
      "metadata": {
        "id": "NpBig774ypt_",
        "colab": {
          "base_uri": "https://localhost:8080/",
          "height": 809
        },
        "outputId": "66dfe7c1-a9d5-48bd-aa4b-c7d954ca0fc5"
      },
      "source": [
        "import numpy as np\n",
        "import matplotlib.pyplot as plt\n",
        "\n",
        "\n",
        "a = np.arange(-5.0,5.0,0.1)\n",
        "def relu11(x):\n",
        "    return np.maximum(0,x)\n",
        "\n",
        "z = relu11(a)\n",
        "print(a)\n",
        "print(z)\n",
        "plt.plot(a,z)"
      ],
      "execution_count": null,
      "outputs": [
        {
          "output_type": "stream",
          "text": [
            "[-5.00000000e+00 -4.90000000e+00 -4.80000000e+00 -4.70000000e+00\n",
            " -4.60000000e+00 -4.50000000e+00 -4.40000000e+00 -4.30000000e+00\n",
            " -4.20000000e+00 -4.10000000e+00 -4.00000000e+00 -3.90000000e+00\n",
            " -3.80000000e+00 -3.70000000e+00 -3.60000000e+00 -3.50000000e+00\n",
            " -3.40000000e+00 -3.30000000e+00 -3.20000000e+00 -3.10000000e+00\n",
            " -3.00000000e+00 -2.90000000e+00 -2.80000000e+00 -2.70000000e+00\n",
            " -2.60000000e+00 -2.50000000e+00 -2.40000000e+00 -2.30000000e+00\n",
            " -2.20000000e+00 -2.10000000e+00 -2.00000000e+00 -1.90000000e+00\n",
            " -1.80000000e+00 -1.70000000e+00 -1.60000000e+00 -1.50000000e+00\n",
            " -1.40000000e+00 -1.30000000e+00 -1.20000000e+00 -1.10000000e+00\n",
            " -1.00000000e+00 -9.00000000e-01 -8.00000000e-01 -7.00000000e-01\n",
            " -6.00000000e-01 -5.00000000e-01 -4.00000000e-01 -3.00000000e-01\n",
            " -2.00000000e-01 -1.00000000e-01 -1.77635684e-14  1.00000000e-01\n",
            "  2.00000000e-01  3.00000000e-01  4.00000000e-01  5.00000000e-01\n",
            "  6.00000000e-01  7.00000000e-01  8.00000000e-01  9.00000000e-01\n",
            "  1.00000000e+00  1.10000000e+00  1.20000000e+00  1.30000000e+00\n",
            "  1.40000000e+00  1.50000000e+00  1.60000000e+00  1.70000000e+00\n",
            "  1.80000000e+00  1.90000000e+00  2.00000000e+00  2.10000000e+00\n",
            "  2.20000000e+00  2.30000000e+00  2.40000000e+00  2.50000000e+00\n",
            "  2.60000000e+00  2.70000000e+00  2.80000000e+00  2.90000000e+00\n",
            "  3.00000000e+00  3.10000000e+00  3.20000000e+00  3.30000000e+00\n",
            "  3.40000000e+00  3.50000000e+00  3.60000000e+00  3.70000000e+00\n",
            "  3.80000000e+00  3.90000000e+00  4.00000000e+00  4.10000000e+00\n",
            "  4.20000000e+00  4.30000000e+00  4.40000000e+00  4.50000000e+00\n",
            "  4.60000000e+00  4.70000000e+00  4.80000000e+00  4.90000000e+00]\n",
            "[0.  0.  0.  0.  0.  0.  0.  0.  0.  0.  0.  0.  0.  0.  0.  0.  0.  0.\n",
            " 0.  0.  0.  0.  0.  0.  0.  0.  0.  0.  0.  0.  0.  0.  0.  0.  0.  0.\n",
            " 0.  0.  0.  0.  0.  0.  0.  0.  0.  0.  0.  0.  0.  0.  0.  0.1 0.2 0.3\n",
            " 0.4 0.5 0.6 0.7 0.8 0.9 1.  1.1 1.2 1.3 1.4 1.5 1.6 1.7 1.8 1.9 2.  2.1\n",
            " 2.2 2.3 2.4 2.5 2.6 2.7 2.8 2.9 3.  3.1 3.2 3.3 3.4 3.5 3.6 3.7 3.8 3.9\n",
            " 4.  4.1 4.2 4.3 4.4 4.5 4.6 4.7 4.8 4.9]\n"
          ],
          "name": "stdout"
        },
        {
          "output_type": "execute_result",
          "data": {
            "text/plain": [
              "[<matplotlib.lines.Line2D at 0x7fd18f2ca5f8>]"
            ]
          },
          "metadata": {
            "tags": []
          },
          "execution_count": 4
        },
        {
          "output_type": "display_data",
          "data": {
            "image/png": "[encoded data removed]",
            "text/plain": [
              "<Figure size 432x288 with 1 Axes>"
            ]
          },
          "metadata": {
            "tags": [],
            "needs_background": "light"
          }
        }
      ]
    },
    {
      "cell_type": "code",
      "metadata": {
        "id": "PIvRDtg7zDFG"
      },
      "source": [
        ""
      ],
      "execution_count": null,
      "outputs": []
    }
  ]
}